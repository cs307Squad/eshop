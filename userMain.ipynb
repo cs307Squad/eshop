{
  "nbformat": 4,
  "nbformat_minor": 0,
  "metadata": {
    "colab": {
      "name": "userMain.ipynb",
      "provenance": []
    },
    "kernelspec": {
      "name": "python3",
      "display_name": "Python 3"
    },
    "language_info": {
      "name": "python"
    }
  },
  "cells": [
    {
      "cell_type": "code",
      "metadata": {
        "id": "lIkXIuJs5Afe"
      },
      "source": [
        "from google.colab import auth\n",
        "import pandas as pd\n",
        "from pandas.io import gbq\n",
        "auth.authenticate_user()"
      ],
      "execution_count": null,
      "outputs": []
    },
    {
      "cell_type": "code",
      "metadata": {
        "id": "nfxdMrVo5TK_"
      },
      "source": [
        "import pandas as pd\n",
        "import random\n",
        "\n",
        "from sklearn.feature_extraction.text import TfidfVectorizer, CountVectorizer\n",
        "from sklearn.neighbors import NearestNeighbors\n",
        "from sklearn.cluster import KMeans\n",
        "from sklearn.metrics import adjusted_rand_score\n",
        "import pandas as pd\n",
        "import matplotlib.pyplot as plt\n",
        "import numpy as np"
      ],
      "execution_count": null,
      "outputs": []
    },
    {
      "cell_type": "code",
      "metadata": {
        "id": "JzwXpLBM8e9m"
      },
      "source": [
        "ordersDf = pd.read_csv('orders.csv')\n",
        "productsDf = pd.read_csv('products.csv')"
      ],
      "execution_count": null,
      "outputs": []
    },
    {
      "cell_type": "code",
      "metadata": {
        "id": "WPrrZ5PnLMe4"
      },
      "source": [
        "productIdAndNames = pd.DataFrame(productsDf[['Product_Code', 'Name']])"
      ],
      "execution_count": null,
      "outputs": []
    },
    {
      "cell_type": "code",
      "metadata": {
        "id": "vhN4XCcL8ncB"
      },
      "source": [
        "orderId = ordersDf[['Order_ID', 'Customer_ID', 'Prod_ID']]"
      ],
      "execution_count": null,
      "outputs": []
    },
    {
      "cell_type": "code",
      "metadata": {
        "id": "6zunwaTl8N1Z"
      },
      "source": [
        "orderId"
      ],
      "execution_count": null,
      "outputs": []
    },
    {
      "cell_type": "code",
      "metadata": {
        "id": "xWApKxb-9CY_"
      },
      "source": [
        "orderId.groupby('Customer_ID')['Prod_ID'].apply(list)"
      ],
      "execution_count": null,
      "outputs": []
    },
    {
      "cell_type": "code",
      "metadata": {
        "id": "WpdrAfvH98co"
      },
      "source": [
        "orderIdmain = orderId.groupby('Customer_ID')['Prod_ID'].apply(list).reset_index(name='products_ID')\n",
        "orderIdmain"
      ],
      "execution_count": null,
      "outputs": []
    },
    {
      "cell_type": "code",
      "metadata": {
        "id": "EB0UCFp9-c0y"
      },
      "source": [
        "listOfProducts_ID = list(orderIdmain['products_ID'])"
      ],
      "execution_count": null,
      "outputs": []
    },
    {
      "cell_type": "code",
      "metadata": {
        "id": "rCuAfA-hNpgh"
      },
      "source": [
        "list1 = list(productIdAndNames.Name)"
      ],
      "execution_count": null,
      "outputs": []
    },
    {
      "cell_type": "code",
      "metadata": {
        "id": "B7aim3Y2K8kn"
      },
      "source": [
        "productNameListFromId = []\n",
        "\n",
        "for userlist in listOfProducts_ID:\n",
        "  prouductEachUserBought = []\n",
        "  for i in userlist:\n",
        "    print(productIdAndNames[productIdAndNames.Product_Code == i]['Name'])\n",
        "  \n",
        "  break\n",
        "    # prouductEachUserBought.append()\n",
        "  \n",
        "  productNameListFromId.append(prouductEachUserBought)\n",
        "productNameListFromId"
      ],
      "execution_count": null,
      "outputs": []
    },
    {
      "cell_type": "code",
      "metadata": {
        "id": "qaFMFaBoLLSC"
      },
      "source": [
        "vectorizer = TfidfVectorizer(stop_words='english')\n",
        "X1 = vectorizer.fit_transform(list1)\n",
        "X1"
      ],
      "execution_count": null,
      "outputs": []
    },
    {
      "cell_type": "code",
      "metadata": {
        "id": "ITi0-5YIZHyw"
      },
      "source": [
        "list1"
      ],
      "execution_count": null,
      "outputs": []
    },
    {
      "cell_type": "code",
      "metadata": {
        "id": "VvvWQNxjd6gt"
      },
      "source": [
        "X=X1\n",
        "kmeans = KMeans(n_clusters = 8, init = 'k-means++')\n",
        "y_kmeans = kmeans.fit_predict(X)\n",
        "plt.plot(y_kmeans, \".\")\n",
        "plt.xlabel('datapoints')\n",
        "plt.ylabel('cluster no.')\n",
        "plt.show()"
      ],
      "execution_count": null,
      "outputs": []
    },
    {
      "cell_type": "code",
      "metadata": {
        "id": "wtfnsooxeeY3"
      },
      "source": [
        "def print_cluster(i):\n",
        "    print (\"Cluster %d:\" % i),\n",
        "    for ind in order_centroids[i, :10]:\n",
        "        print (' %s' % terms[ind]),\n",
        "    print\n",
        "\n",
        "def return_cluster(i):\n",
        "    list1 = []\n",
        "    for ind in order_centroids[i, :10]:\n",
        "        # print (' %s' % terms[ind]), print\n",
        "        list1.append(terms[ind])\n",
        "\n",
        "    return list1\n",
        "\n",
        "def show_recommendations2(product):\n",
        "    Y = vectorizer.transform([product]) #put it in numbers\n",
        "    prediction = model.predict(Y) #using those numbers, we find the nearby cluster\n",
        "    return (return_cluster(prediction[0])) \n",
        "\n",
        "def cluster_number(product):\n",
        "    Y = vectorizer.transform([product]) #put it in numbers\n",
        "    prediction = model.predict(Y) #using those numbers, we find the nearby cluster\n",
        "    return (prediction[0]) "
      ],
      "execution_count": null,
      "outputs": []
    },
    {
      "cell_type": "code",
      "metadata": {
        "id": "jUH0Em6BemKy"
      },
      "source": [
        "true_k = 15\n",
        "model = KMeans(n_clusters=true_k, init='k-means++', max_iter=100, n_init=1)\n",
        "model.fit(X1)\n",
        "print(\"Top terms per cluster:\")\n",
        "order_centroids = model.cluster_centers_.argsort()[:, ::-1]\n",
        "terms = vectorizer.get_feature_names()\n",
        "for i in range(true_k):\n",
        "    print_cluster(i)"
      ],
      "execution_count": null,
      "outputs": []
    },
    {
      "cell_type": "code",
      "metadata": {
        "id": "7pZCurFctLFg"
      },
      "source": [
        "productIdAndNames = pd.DataFrame(productIdAndNames)\n",
        "\n",
        "\n"
      ],
      "execution_count": null,
      "outputs": []
    },
    {
      "cell_type": "code",
      "metadata": {
        "id": "Pl-xYRqjHYLv"
      },
      "source": [
        "productIdAndNames"
      ],
      "execution_count": null,
      "outputs": []
    },
    {
      "cell_type": "code",
      "metadata": {
        "id": "zlNOHpyLe7JR"
      },
      "source": [
        "clusters = []\n",
        "for i in list1:\n",
        "  clusters.append(cluster_number(i))\n",
        "\n",
        "\n",
        "count = 0\n",
        "for i in clusters:\n",
        "  productIdAndNames.iloc[count,count] = i\n",
        "\n",
        "productIdAndNames['predictions'] = clusters"
      ],
      "execution_count": null,
      "outputs": []
    },
    {
      "cell_type": "code",
      "metadata": {
        "id": "p-Fccl-gtfyM"
      },
      "source": [
        ""
      ],
      "execution_count": null,
      "outputs": []
    },
    {
      "cell_type": "code",
      "metadata": {
        "id": "tEQLQbwNh1-l"
      },
      "source": [
        "productIdAndNames.head()"
      ],
      "execution_count": null,
      "outputs": []
    },
    {
      "cell_type": "code",
      "metadata": {
        "id": "a9D2INhYh4Ry"
      },
      "source": [
        "productNameListFromId = []\n",
        "\n",
        "for userlist in listOfProducts_ID:\n",
        "  prouductEachUserBought = []\n",
        "  for i in userlist:\n",
        "    try:\n",
        "      int1 = productIdAndNames.predictions[i - 1]\n",
        "      prouductEachUserBought.append(int1)\n",
        "\n",
        "    \n",
        "    except Exception as e:\n",
        "      print('nan value')\n",
        "    \n",
        "   \n",
        "  productNameListFromId.append(prouductEachUserBought)\n",
        "\n"
      ],
      "execution_count": null,
      "outputs": []
    },
    {
      "cell_type": "code",
      "metadata": {
        "id": "ZE9Paibzni1A"
      },
      "source": [
        "df = pd.DataFrame(productNameListFromId)\n",
        "df\n"
      ],
      "execution_count": null,
      "outputs": []
    },
    {
      "cell_type": "code",
      "metadata": {
        "id": "dF6_2t71tof1"
      },
      "source": [
        "productIdAndNames"
      ],
      "execution_count": null,
      "outputs": []
    },
    {
      "cell_type": "code",
      "metadata": {
        "id": "s0jk0MsxVBn-"
      },
      "source": [
        "predictionsOfProducts = productIdAndNames.groupby('predictions')['Product_Code'].apply(list)\n",
        "predictionsOfProducts = pd.DataFrame(predictionsOfProducts)\n",
        "predictionsOfProducts"
      ],
      "execution_count": null,
      "outputs": []
    },
    {
      "cell_type": "code",
      "metadata": {
        "id": "Sw7BoDdWPdMM"
      },
      "source": [
        "df2 = df.mode(axis = 1)\n",
        "\n",
        "df2 = pd.DataFrame(df[0])\n",
        "df2"
      ],
      "execution_count": null,
      "outputs": []
    },
    {
      "cell_type": "code",
      "metadata": {
        "id": "6DA4k7wtLXNo"
      },
      "source": [
        "\n",
        "\n",
        "modes = list(df2[0])\n",
        "\n",
        "productsRecommendedToUsers = []\n",
        "for i in modes:\n",
        "  \n",
        "  list2 = predictionsOfProducts.Product_Code[int(i)]\n",
        "  print(list2)\n",
        "  random.shuffle(list2)\n",
        "  productsRecommendedToUsers.append(list2)\n",
        "\n",
        "\n",
        "\n",
        "\n",
        "\n",
        "\n"
      ],
      "execution_count": null,
      "outputs": []
    },
    {
      "cell_type": "code",
      "metadata": {
        "id": "TR9sjQSNYFgc"
      },
      "source": [
        "customerWithRecommendations = pd.DataFrame(orderIdmain['Customer_ID'])\n"
      ],
      "execution_count": null,
      "outputs": []
    },
    {
      "cell_type": "code",
      "metadata": {
        "id": "o62fyor6Wk83"
      },
      "source": [
        "customerWithRecommendations['recommendedProducts'] = pd.Series(productsRecommendedToUsers)"
      ],
      "execution_count": null,
      "outputs": []
    },
    {
      "cell_type": "code",
      "metadata": {
        "id": "tG4ZoZQ_Yq-y"
      },
      "source": [
        "customerWithRecommendations"
      ],
      "execution_count": null,
      "outputs": []
    },
    {
      "cell_type": "code",
      "metadata": {
        "colab": {
          "base_uri": "https://localhost:8080/"
        },
        "id": "j2tNl9QMwF9M",
        "outputId": "fca60562-17f7-4493-d739-c8b85415a583"
      },
      "source": [
        "customerWithRecommendations.to_gbq(destination_table='userFakeData.data1', project_id='eshopserver', if_exists='replace')"
      ],
      "execution_count": 335,
      "outputs": [
        {
          "output_type": "stream",
          "name": "stderr",
          "text": [
            "1it [00:09,  9.32s/it]\n"
          ]
        }
      ]
    }
  ]
}