{
  "nbformat": 4,
  "nbformat_minor": 0,
  "metadata": {
    "colab": {
      "name": "UserData.ipynb",
      "provenance": [],
      "collapsed_sections": []
    },
    "kernelspec": {
      "name": "python3",
      "display_name": "Python 3"
    },
    "language_info": {
      "name": "python"
    }
  },
  "cells": [
    {
      "cell_type": "markdown",
      "metadata": {
        "id": "NcPHp8y6BNhd"
      },
      "source": [
        "# Created Usernames"
      ]
    },
    {
      "cell_type": "code",
      "metadata": {
        "id": "fzDwZq_NA-mR",
        "colab": {
          "base_uri": "https://localhost:8080/"
        },
        "outputId": "31d6246f-52cc-43e9-bf29-708fdf4d325d"
      },
      "source": [
        "usernames = []\n",
        "\n",
        "\n",
        "for i in list(range(200)):\n",
        "  userName = \"user\" + str(i)\n",
        "  usernames.append(userName)\n",
        "\n",
        "print(usernames)"
      ],
      "execution_count": 115,
      "outputs": [
        {
          "output_type": "stream",
          "name": "stdout",
          "text": [
            "['user0', 'user1', 'user2', 'user3', 'user4', 'user5', 'user6', 'user7', 'user8', 'user9', 'user10', 'user11', 'user12', 'user13', 'user14', 'user15', 'user16', 'user17', 'user18', 'user19', 'user20', 'user21', 'user22', 'user23', 'user24', 'user25', 'user26', 'user27', 'user28', 'user29', 'user30', 'user31', 'user32', 'user33', 'user34', 'user35', 'user36', 'user37', 'user38', 'user39', 'user40', 'user41', 'user42', 'user43', 'user44', 'user45', 'user46', 'user47', 'user48', 'user49', 'user50', 'user51', 'user52', 'user53', 'user54', 'user55', 'user56', 'user57', 'user58', 'user59', 'user60', 'user61', 'user62', 'user63', 'user64', 'user65', 'user66', 'user67', 'user68', 'user69', 'user70', 'user71', 'user72', 'user73', 'user74', 'user75', 'user76', 'user77', 'user78', 'user79', 'user80', 'user81', 'user82', 'user83', 'user84', 'user85', 'user86', 'user87', 'user88', 'user89', 'user90', 'user91', 'user92', 'user93', 'user94', 'user95', 'user96', 'user97', 'user98', 'user99', 'user100', 'user101', 'user102', 'user103', 'user104', 'user105', 'user106', 'user107', 'user108', 'user109', 'user110', 'user111', 'user112', 'user113', 'user114', 'user115', 'user116', 'user117', 'user118', 'user119', 'user120', 'user121', 'user122', 'user123', 'user124', 'user125', 'user126', 'user127', 'user128', 'user129', 'user130', 'user131', 'user132', 'user133', 'user134', 'user135', 'user136', 'user137', 'user138', 'user139', 'user140', 'user141', 'user142', 'user143', 'user144', 'user145', 'user146', 'user147', 'user148', 'user149', 'user150', 'user151', 'user152', 'user153', 'user154', 'user155', 'user156', 'user157', 'user158', 'user159', 'user160', 'user161', 'user162', 'user163', 'user164', 'user165', 'user166', 'user167', 'user168', 'user169', 'user170', 'user171', 'user172', 'user173', 'user174', 'user175', 'user176', 'user177', 'user178', 'user179', 'user180', 'user181', 'user182', 'user183', 'user184', 'user185', 'user186', 'user187', 'user188', 'user189', 'user190', 'user191', 'user192', 'user193', 'user194', 'user195', 'user196', 'user197', 'user198', 'user199']\n"
          ]
        }
      ]
    },
    {
      "cell_type": "markdown",
      "metadata": {
        "id": "qM3GhS3PBwOi"
      },
      "source": [
        "# Turning the user list into dataframe"
      ]
    },
    {
      "cell_type": "code",
      "metadata": {
        "id": "DF8WzyN8BTOl"
      },
      "source": [
        "import pandas as pd\n",
        "import random\n",
        "from pandas.io import gbq\n",
        "from sklearn.feature_extraction.text import TfidfVectorizer, CountVectorizer\n",
        "from sklearn.neighbors import NearestNeighbors\n",
        "from sklearn.cluster import KMeans\n",
        "from sklearn.metrics import adjusted_rand_score\n",
        "import pandas as pd\n",
        "import matplotlib.pyplot as plt\n"
      ],
      "execution_count": 116,
      "outputs": []
    },
    {
      "cell_type": "code",
      "metadata": {
        "id": "ZGUmJdooBWlY",
        "colab": {
          "base_uri": "https://localhost:8080/",
          "height": 204
        },
        "outputId": "740688be-f17f-4a72-ed47-6ccb3bba246c"
      },
      "source": [
        "userData = pd.DataFrame(usernames, columns=['userID'])\n",
        "userData.head()\n"
      ],
      "execution_count": 117,
      "outputs": [
        {
          "output_type": "execute_result",
          "data": {
            "text/html": [
              "<div>\n",
              "<style scoped>\n",
              "    .dataframe tbody tr th:only-of-type {\n",
              "        vertical-align: middle;\n",
              "    }\n",
              "\n",
              "    .dataframe tbody tr th {\n",
              "        vertical-align: top;\n",
              "    }\n",
              "\n",
              "    .dataframe thead th {\n",
              "        text-align: right;\n",
              "    }\n",
              "</style>\n",
              "<table border=\"1\" class=\"dataframe\">\n",
              "  <thead>\n",
              "    <tr style=\"text-align: right;\">\n",
              "      <th></th>\n",
              "      <th>userID</th>\n",
              "    </tr>\n",
              "  </thead>\n",
              "  <tbody>\n",
              "    <tr>\n",
              "      <th>0</th>\n",
              "      <td>user0</td>\n",
              "    </tr>\n",
              "    <tr>\n",
              "      <th>1</th>\n",
              "      <td>user1</td>\n",
              "    </tr>\n",
              "    <tr>\n",
              "      <th>2</th>\n",
              "      <td>user2</td>\n",
              "    </tr>\n",
              "    <tr>\n",
              "      <th>3</th>\n",
              "      <td>user3</td>\n",
              "    </tr>\n",
              "    <tr>\n",
              "      <th>4</th>\n",
              "      <td>user4</td>\n",
              "    </tr>\n",
              "  </tbody>\n",
              "</table>\n",
              "</div>"
            ],
            "text/plain": [
              "  userID\n",
              "0  user0\n",
              "1  user1\n",
              "2  user2\n",
              "3  user3\n",
              "4  user4"
            ]
          },
          "metadata": {},
          "execution_count": 117
        }
      ]
    },
    {
      "cell_type": "code",
      "metadata": {
        "id": "gBLvxMtbCu67",
        "colab": {
          "base_uri": "https://localhost:8080/",
          "height": 204
        },
        "outputId": "5f403b01-879c-492c-8fe8-e9b8f2e20839"
      },
      "source": [
        "products = pd.read_csv('product_descriptions.csv')\n",
        "products2 = pd.read_csv('product_descriptions.csv')\n",
        "products.head()"
      ],
      "execution_count": 118,
      "outputs": [
        {
          "output_type": "execute_result",
          "data": {
            "text/html": [
              "<div>\n",
              "<style scoped>\n",
              "    .dataframe tbody tr th:only-of-type {\n",
              "        vertical-align: middle;\n",
              "    }\n",
              "\n",
              "    .dataframe tbody tr th {\n",
              "        vertical-align: top;\n",
              "    }\n",
              "\n",
              "    .dataframe thead th {\n",
              "        text-align: right;\n",
              "    }\n",
              "</style>\n",
              "<table border=\"1\" class=\"dataframe\">\n",
              "  <thead>\n",
              "    <tr style=\"text-align: right;\">\n",
              "      <th></th>\n",
              "      <th>product_uid</th>\n",
              "      <th>product_description</th>\n",
              "    </tr>\n",
              "  </thead>\n",
              "  <tbody>\n",
              "    <tr>\n",
              "      <th>0</th>\n",
              "      <td>100001</td>\n",
              "      <td>Not only do angles make joints stronger, they ...</td>\n",
              "    </tr>\n",
              "    <tr>\n",
              "      <th>1</th>\n",
              "      <td>100002</td>\n",
              "      <td>BEHR Premium Textured DECKOVER is an innovativ...</td>\n",
              "    </tr>\n",
              "    <tr>\n",
              "      <th>2</th>\n",
              "      <td>100003</td>\n",
              "      <td>Classic architecture meets contemporary design...</td>\n",
              "    </tr>\n",
              "    <tr>\n",
              "      <th>3</th>\n",
              "      <td>100004</td>\n",
              "      <td>The Grape Solar 265-Watt Polycrystalline PV So...</td>\n",
              "    </tr>\n",
              "    <tr>\n",
              "      <th>4</th>\n",
              "      <td>100005</td>\n",
              "      <td>Update your bathroom with the Delta Vero Singl...</td>\n",
              "    </tr>\n",
              "  </tbody>\n",
              "</table>\n",
              "</div>"
            ],
            "text/plain": [
              "   product_uid                                product_description\n",
              "0       100001  Not only do angles make joints stronger, they ...\n",
              "1       100002  BEHR Premium Textured DECKOVER is an innovativ...\n",
              "2       100003  Classic architecture meets contemporary design...\n",
              "3       100004  The Grape Solar 265-Watt Polycrystalline PV So...\n",
              "4       100005  Update your bathroom with the Delta Vero Singl..."
            ]
          },
          "metadata": {},
          "execution_count": 118
        }
      ]
    },
    {
      "cell_type": "code",
      "metadata": {
        "id": "qexoNcNQDQgV"
      },
      "source": [
        "productListForUser = []\n",
        "\n",
        "for i in list(range(200)):\n",
        "  samples = products['product_description'].sample(5)\n",
        "  productListForUser.append(list(samples))\n"
      ],
      "execution_count": 119,
      "outputs": []
    },
    {
      "cell_type": "code",
      "metadata": {
        "id": "STmEtdoqLY2J",
        "colab": {
          "base_uri": "https://localhost:8080/",
          "height": 289
        },
        "outputId": "9226e0c4-bf82-4e6e-f4b1-bc79729ae11c"
      },
      "source": [
        "products = pd.DataFrame(productListForUser, columns = ['product1', 'product2', 'product3', 'product4', 'product5'])\n",
        "products.head(5)"
      ],
      "execution_count": 120,
      "outputs": [
        {
          "output_type": "execute_result",
          "data": {
            "text/html": [
              "<div>\n",
              "<style scoped>\n",
              "    .dataframe tbody tr th:only-of-type {\n",
              "        vertical-align: middle;\n",
              "    }\n",
              "\n",
              "    .dataframe tbody tr th {\n",
              "        vertical-align: top;\n",
              "    }\n",
              "\n",
              "    .dataframe thead th {\n",
              "        text-align: right;\n",
              "    }\n",
              "</style>\n",
              "<table border=\"1\" class=\"dataframe\">\n",
              "  <thead>\n",
              "    <tr style=\"text-align: right;\">\n",
              "      <th></th>\n",
              "      <th>product1</th>\n",
              "      <th>product2</th>\n",
              "      <th>product3</th>\n",
              "      <th>product4</th>\n",
              "      <th>product5</th>\n",
              "    </tr>\n",
              "  </thead>\n",
              "  <tbody>\n",
              "    <tr>\n",
              "      <th>0</th>\n",
              "      <td>This patio door roller assembly features a sta...</td>\n",
              "      <td>Handy set combines a useful selection of titan...</td>\n",
              "      <td>When looking for that perfect solution for you...</td>\n",
              "      <td>These sheet metal screws, or tapping screws, a...</td>\n",
              "      <td>Cross Sawn Oak Warm Brown Base attaches to the...</td>\n",
              "    </tr>\n",
              "    <tr>\n",
              "      <th>1</th>\n",
              "      <td>Speakman traditional series round bowl eyewash...</td>\n",
              "      <td>Use the Jiffy Windowsill Greenhouse 24 to crea...</td>\n",
              "      <td>Active Ventilation Products' Aura PVC Vent Cap...</td>\n",
              "      <td>The Elizabethan Classics 1-1/2 in. Brass Leg T...</td>\n",
              "      <td>The Original, Made in North America, do-it-you...</td>\n",
              "    </tr>\n",
              "    <tr>\n",
              "      <th>2</th>\n",
              "      <td>We dressed up vintage principles with this sop...</td>\n",
              "      <td>The Solstice security door, a member of the Un...</td>\n",
              "      <td>Transform an ordinary kitchen or bathroom into...</td>\n",
              "      <td>For a classic, cultivated look on your homes e...</td>\n",
              "      <td>The cornerstone of the Elementary Collection i...</td>\n",
              "    </tr>\n",
              "    <tr>\n",
              "      <th>3</th>\n",
              "      <td>The Catskill Craftsmen 15-1/4 in. Kitchen Work...</td>\n",
              "      <td>The San Tropez Bidet offers versatile styling ...</td>\n",
              "      <td>When safety is a priority, use Klein Tools' Wi...</td>\n",
              "      <td>TSW (Toe Space) is a surface mount grille that...</td>\n",
              "      <td>Protect your vehicle's flooring and your cargo...</td>\n",
              "    </tr>\n",
              "    <tr>\n",
              "      <th>4</th>\n",
              "      <td>Wire residential indoor branch circuits for ou...</td>\n",
              "      <td>The Cooper Wiring Devices CSB315STV-SP Commerc...</td>\n",
              "      <td>WeatherShield brand pressure treated products ...</td>\n",
              "      <td>You'll love how the curved edges of this beaut...</td>\n",
              "      <td>This large half moon table will add a lot of d...</td>\n",
              "    </tr>\n",
              "  </tbody>\n",
              "</table>\n",
              "</div>"
            ],
            "text/plain": [
              "                                            product1  ...                                           product5\n",
              "0  This patio door roller assembly features a sta...  ...  Cross Sawn Oak Warm Brown Base attaches to the...\n",
              "1  Speakman traditional series round bowl eyewash...  ...  The Original, Made in North America, do-it-you...\n",
              "2  We dressed up vintage principles with this sop...  ...  The cornerstone of the Elementary Collection i...\n",
              "3  The Catskill Craftsmen 15-1/4 in. Kitchen Work...  ...  Protect your vehicle's flooring and your cargo...\n",
              "4  Wire residential indoor branch circuits for ou...  ...  This large half moon table will add a lot of d...\n",
              "\n",
              "[5 rows x 5 columns]"
            ]
          },
          "metadata": {},
          "execution_count": 120
        }
      ]
    },
    {
      "cell_type": "code",
      "metadata": {
        "id": "qeDgxVMeL3xX",
        "colab": {
          "base_uri": "https://localhost:8080/",
          "height": 289
        },
        "outputId": "cdd16f13-9d4f-4e2b-d21b-dbe1dabe0e84"
      },
      "source": [
        "list1 = [userData, products]\n",
        "\n",
        "df_col_merged = pd.concat(list1, axis=1)\n",
        "df_col_merged.head()"
      ],
      "execution_count": 121,
      "outputs": [
        {
          "output_type": "execute_result",
          "data": {
            "text/html": [
              "<div>\n",
              "<style scoped>\n",
              "    .dataframe tbody tr th:only-of-type {\n",
              "        vertical-align: middle;\n",
              "    }\n",
              "\n",
              "    .dataframe tbody tr th {\n",
              "        vertical-align: top;\n",
              "    }\n",
              "\n",
              "    .dataframe thead th {\n",
              "        text-align: right;\n",
              "    }\n",
              "</style>\n",
              "<table border=\"1\" class=\"dataframe\">\n",
              "  <thead>\n",
              "    <tr style=\"text-align: right;\">\n",
              "      <th></th>\n",
              "      <th>userID</th>\n",
              "      <th>product1</th>\n",
              "      <th>product2</th>\n",
              "      <th>product3</th>\n",
              "      <th>product4</th>\n",
              "      <th>product5</th>\n",
              "    </tr>\n",
              "  </thead>\n",
              "  <tbody>\n",
              "    <tr>\n",
              "      <th>0</th>\n",
              "      <td>user0</td>\n",
              "      <td>This patio door roller assembly features a sta...</td>\n",
              "      <td>Handy set combines a useful selection of titan...</td>\n",
              "      <td>When looking for that perfect solution for you...</td>\n",
              "      <td>These sheet metal screws, or tapping screws, a...</td>\n",
              "      <td>Cross Sawn Oak Warm Brown Base attaches to the...</td>\n",
              "    </tr>\n",
              "    <tr>\n",
              "      <th>1</th>\n",
              "      <td>user1</td>\n",
              "      <td>Speakman traditional series round bowl eyewash...</td>\n",
              "      <td>Use the Jiffy Windowsill Greenhouse 24 to crea...</td>\n",
              "      <td>Active Ventilation Products' Aura PVC Vent Cap...</td>\n",
              "      <td>The Elizabethan Classics 1-1/2 in. Brass Leg T...</td>\n",
              "      <td>The Original, Made in North America, do-it-you...</td>\n",
              "    </tr>\n",
              "    <tr>\n",
              "      <th>2</th>\n",
              "      <td>user2</td>\n",
              "      <td>We dressed up vintage principles with this sop...</td>\n",
              "      <td>The Solstice security door, a member of the Un...</td>\n",
              "      <td>Transform an ordinary kitchen or bathroom into...</td>\n",
              "      <td>For a classic, cultivated look on your homes e...</td>\n",
              "      <td>The cornerstone of the Elementary Collection i...</td>\n",
              "    </tr>\n",
              "    <tr>\n",
              "      <th>3</th>\n",
              "      <td>user3</td>\n",
              "      <td>The Catskill Craftsmen 15-1/4 in. Kitchen Work...</td>\n",
              "      <td>The San Tropez Bidet offers versatile styling ...</td>\n",
              "      <td>When safety is a priority, use Klein Tools' Wi...</td>\n",
              "      <td>TSW (Toe Space) is a surface mount grille that...</td>\n",
              "      <td>Protect your vehicle's flooring and your cargo...</td>\n",
              "    </tr>\n",
              "    <tr>\n",
              "      <th>4</th>\n",
              "      <td>user4</td>\n",
              "      <td>Wire residential indoor branch circuits for ou...</td>\n",
              "      <td>The Cooper Wiring Devices CSB315STV-SP Commerc...</td>\n",
              "      <td>WeatherShield brand pressure treated products ...</td>\n",
              "      <td>You'll love how the curved edges of this beaut...</td>\n",
              "      <td>This large half moon table will add a lot of d...</td>\n",
              "    </tr>\n",
              "  </tbody>\n",
              "</table>\n",
              "</div>"
            ],
            "text/plain": [
              "  userID  ...                                           product5\n",
              "0  user0  ...  Cross Sawn Oak Warm Brown Base attaches to the...\n",
              "1  user1  ...  The Original, Made in North America, do-it-you...\n",
              "2  user2  ...  The cornerstone of the Elementary Collection i...\n",
              "3  user3  ...  Protect your vehicle's flooring and your cargo...\n",
              "4  user4  ...  This large half moon table will add a lot of d...\n",
              "\n",
              "[5 rows x 6 columns]"
            ]
          },
          "metadata": {},
          "execution_count": 121
        }
      ]
    },
    {
      "cell_type": "markdown",
      "metadata": {
        "id": "4JB8qH183BR7"
      },
      "source": [
        "# Store the products and users into Database Table"
      ]
    },
    {
      "cell_type": "code",
      "metadata": {
        "id": "HW81zDRGNTIx"
      },
      "source": [
        "df_col_merged.to_gbq(destination_table='userFakeData.data1', project_id='eshopserver', if_exists='replace')"
      ],
      "execution_count": null,
      "outputs": []
    },
    {
      "cell_type": "markdown",
      "metadata": {
        "id": "wMB2P-bY3RO7"
      },
      "source": [
        "# Building The Model "
      ]
    },
    {
      "cell_type": "code",
      "metadata": {
        "id": "XrtUl4EUTkTU",
        "colab": {
          "base_uri": "https://localhost:8080/"
        },
        "outputId": "a77376b0-30e5-4277-b21c-fc9899421a1a"
      },
      "source": [
        "vectorizer = TfidfVectorizer(stop_words='english')\n",
        "X1 = vectorizer.fit_transform(products2[\"product_description\"][0:1000])\n",
        "X1"
      ],
      "execution_count": 123,
      "outputs": [
        {
          "output_type": "execute_result",
          "data": {
            "text/plain": [
              "<1000x13688 sparse matrix of type '<class 'numpy.float64'>'\n",
              "\twith 70783 stored elements in Compressed Sparse Row format>"
            ]
          },
          "metadata": {},
          "execution_count": 123
        }
      ]
    },
    {
      "cell_type": "code",
      "metadata": {
        "id": "KzjMn958XN74",
        "colab": {
          "base_uri": "https://localhost:8080/",
          "height": 279
        },
        "outputId": "30ba9149-05c8-45e3-865f-82ceeaefe8c5"
      },
      "source": [
        "X=X1\n",
        "kmeans = KMeans(n_clusters = 10, init = 'k-means++')\n",
        "y_kmeans = kmeans.fit_predict(X)\n",
        "plt.plot(y_kmeans, \".\")\n",
        "plt.xlabel('datapoints')\n",
        "plt.ylabel('cluster no.')\n",
        "plt.show()"
      ],
      "execution_count": 145,
      "outputs": [
        {
          "output_type": "display_data",
          "data": {
            "image/png": "[encoded data removed]",
            "text/plain": [
              "<Figure size 432x288 with 1 Axes>"
            ]
          },
          "metadata": {
            "needs_background": "light"
          }
        }
      ]
    },
    {
      "cell_type": "code",
      "metadata": {
        "id": "o_GQSOHysHkb"
      },
      "source": [
        "def print_cluster(i):\n",
        "    print (\"Cluster %d:\" % i),\n",
        "    for ind in order_centroids[i, :10]:\n",
        "        print (' %s' % terms[ind]),\n",
        "    print"
      ],
      "execution_count": 146,
      "outputs": []
    },
    {
      "cell_type": "code",
      "metadata": {
        "id": "v6ys_q8xuNVd"
      },
      "source": [
        "def return_cluster(i):\n",
        "    list1 = []\n",
        "    for ind in order_centroids[i, :10]:\n",
        "        # print (' %s' % terms[ind]), print\n",
        "        list1.append(terms[ind])\n",
        "\n",
        "    return list1"
      ],
      "execution_count": 147,
      "outputs": []
    },
    {
      "cell_type": "markdown",
      "metadata": {
        "id": "3XIx4HCM3Ya4"
      },
      "source": [
        "# Creating Groups using the Model"
      ]
    },
    {
      "cell_type": "code",
      "metadata": {
        "id": "Tpo_9TLYtCGu",
        "colab": {
          "base_uri": "https://localhost:8080/"
        },
        "outputId": "629eeb32-237f-4ea8-8c2f-78d98685a414"
      },
      "source": [
        "true_k = 10\n",
        "model = KMeans(n_clusters=true_k, init='k-means++', max_iter=100, n_init=1)\n",
        "model.fit(X1)\n",
        "print(\"Top terms per cluster:\")\n",
        "order_centroids = model.cluster_centers_.argsort()[:, ::-1]\n",
        "terms = vectorizer.get_feature_names()\n",
        "for i in range(true_k):\n",
        "    print_cluster(i)"
      ],
      "execution_count": 149,
      "outputs": [
        {
          "output_type": "stream",
          "name": "stdout",
          "text": [
            "Top terms per cluster:\n",
            "Cluster 0:\n",
            " ft\n",
            " landscape\n",
            " stone\n",
            " used\n",
            " stake\n",
            " product\n",
            " concrete\n",
            " vary\n",
            " mulch\n",
            " edging\n",
            "Cluster 1:\n",
            " air\n",
            " fan\n",
            " control\n",
            " cooling\n",
            " ft\n",
            " heat\n",
            " room\n",
            " 000\n",
            " snow\n",
            " installation\n",
            "Cluster 2:\n",
            " patio\n",
            " frame\n",
            " weather\n",
            " door\n",
            " steel\n",
            " resistant\n",
            " resin\n",
            " outdoor\n",
            " chairs\n",
            " fabric\n",
            "Cluster 3:\n",
            " water\n",
            " toilet\n",
            " installation\n",
            " tile\n",
            " heater\n",
            " tank\n",
            " flush\n",
            " bowl\n",
            " design\n",
            " piece\n",
            "Cluster 4:\n",
            " cooking\n",
            " cu\n",
            " oven\n",
            " cycle\n",
            " wash\n",
            " washer\n",
            " options\n",
            " cycles\n",
            " energy\n",
            " ft\n",
            "Cluster 5:\n",
            " light\n",
            " watt\n",
            " led\n",
            " fixture\n",
            " lighting\n",
            " bulbs\n",
            " bulb\n",
            " fluorescent\n",
            " energy\n",
            " leds\n",
            "Cluster 6:\n",
            " shelves\n",
            " storage\n",
            " wall\n",
            " finish\n",
            " cabinet\n",
            " shelf\n",
            " nickel\n",
            " design\n",
            " room\n",
            " door\n",
            "Cluster 7:\n",
            " power\n",
            " cutting\n",
            " volt\n",
            " drill\n",
            " tool\n",
            " saw\n",
            " speed\n",
            " battery\n",
            " blade\n",
            " lithium\n",
            "Cluster 8:\n",
            " wood\n",
            " ft\n",
            " steel\n",
            " use\n",
            " proposition\n",
            " easy\n",
            " california\n",
            " post\n",
            " nbsp\n",
            " residents\n",
            "Cluster 9:\n",
            " window\n",
            " roller\n",
            " cover\n",
            " easy\n",
            " grill\n",
            " windows\n",
            " film\n",
            " frame\n",
            " vinyl\n",
            " size\n"
          ]
        }
      ]
    },
    {
      "cell_type": "markdown",
      "metadata": {
        "id": "lkAH2HMo3iq8"
      },
      "source": [
        "# Predict Products to recommend based on the product the customer purchased"
      ]
    },
    {
      "cell_type": "code",
      "metadata": {
        "id": "l1t7YIbStjO2"
      },
      "source": [
        "def show_recommendations2(product):\n",
        "    Y = vectorizer.transform([product]) #put it in numbers\n",
        "    prediction = model.predict(Y) #using those numbers, we find the nearby cluster\n",
        "    return (return_cluster(prediction[0])) "
      ],
      "execution_count": 150,
      "outputs": []
    },
    {
      "cell_type": "code",
      "metadata": {
        "id": "JwippPwbtNzB",
        "colab": {
          "base_uri": "https://localhost:8080/"
        },
        "outputId": "1a40cf23-6a5a-4c56-92dd-7b585365b547"
      },
      "source": [
        "show_recommendations2('Shower cap')"
      ],
      "execution_count": 151,
      "outputs": [
        {
          "output_type": "execute_result",
          "data": {
            "text/plain": [
              "['shelves',\n",
              " 'storage',\n",
              " 'wall',\n",
              " 'finish',\n",
              " 'cabinet',\n",
              " 'shelf',\n",
              " 'nickel',\n",
              " 'design',\n",
              " 'room',\n",
              " 'door']"
            ]
          },
          "metadata": {},
          "execution_count": 151
        }
      ]
    },
    {
      "cell_type": "code",
      "metadata": {
        "id": "TH-TaXPqtbuT"
      },
      "source": [
        "maindflist = df_col_merged[['product1', 'product2', 'product3', 'product4', 'product5']].values.tolist()"
      ],
      "execution_count": 152,
      "outputs": []
    },
    {
      "cell_type": "markdown",
      "metadata": {
        "id": "UdbBCUnK34s3"
      },
      "source": [
        "# Predict Products to recommend based on all the products the customer purchased"
      ]
    },
    {
      "cell_type": "code",
      "metadata": {
        "id": "HE4dC7RkwgAM",
        "colab": {
          "base_uri": "https://localhost:8080/",
          "height": 204
        },
        "outputId": "cc6b7342-c560-46fd-fac4-bef6c5b206fc"
      },
      "source": [
        "recommendedProductsForEachUser = []\n",
        "\n",
        "for i in maindflist:\n",
        "  allProductsForUser = []\n",
        "  for j in i:\n",
        "    tenProducts = list(show_recommendations2(j))\n",
        "    count1 = 0\n",
        "    for k in tenProducts:\n",
        "      allProductsForUser.append(k)\n",
        "      count1 = count1 + 1\n",
        "      if count1 == 8:\n",
        "        break\n",
        "\n",
        "  random.shuffle(allProductsForUser)\n",
        "  allProductsForUser = set(allProductsForUser)\n",
        "  allProductsForUser = list(allProductsForUser)\n",
        "  recommendedProductsForEachUser.append(allProductsForUser[0:7])\n",
        "productRecommendations = pd.DataFrame(recommendedProductsForEachUser, columns = ['product1', 'product2', 'product3', 'product4', 'product5', 'product6', 'product7'])\n",
        "\n",
        "productRecommendations.head()\n",
        "\n",
        "# ok so for each product and for each row\n",
        "  # I need to recommend product\n",
        "    # then I need to find recommended products of the product\n",
        "    # I have to pick 2 reccomended products and store it in the list\n",
        "  # Then after I get the list for the user\n",
        "  # I will have to make sure the products don't repeat \n",
        "  # then I put it in list of lists \n"
      ],
      "execution_count": 156,
      "outputs": [
        {
          "output_type": "execute_result",
          "data": {
            "text/html": [
              "<div>\n",
              "<style scoped>\n",
              "    .dataframe tbody tr th:only-of-type {\n",
              "        vertical-align: middle;\n",
              "    }\n",
              "\n",
              "    .dataframe tbody tr th {\n",
              "        vertical-align: top;\n",
              "    }\n",
              "\n",
              "    .dataframe thead th {\n",
              "        text-align: right;\n",
              "    }\n",
              "</style>\n",
              "<table border=\"1\" class=\"dataframe\">\n",
              "  <thead>\n",
              "    <tr style=\"text-align: right;\">\n",
              "      <th></th>\n",
              "      <th>product1</th>\n",
              "      <th>product2</th>\n",
              "      <th>product3</th>\n",
              "      <th>product4</th>\n",
              "      <th>product5</th>\n",
              "      <th>product6</th>\n",
              "      <th>product7</th>\n",
              "    </tr>\n",
              "  </thead>\n",
              "  <tbody>\n",
              "    <tr>\n",
              "      <th>0</th>\n",
              "      <td>frame</td>\n",
              "      <td>door</td>\n",
              "      <td>concrete</td>\n",
              "      <td>storage</td>\n",
              "      <td>landscape</td>\n",
              "      <td>product</td>\n",
              "      <td>shelf</td>\n",
              "    </tr>\n",
              "    <tr>\n",
              "      <th>1</th>\n",
              "      <td>concrete</td>\n",
              "      <td>landscape</td>\n",
              "      <td>california</td>\n",
              "      <td>product</td>\n",
              "      <td>proposition</td>\n",
              "      <td>volt</td>\n",
              "      <td>speed</td>\n",
              "    </tr>\n",
              "    <tr>\n",
              "      <th>2</th>\n",
              "      <td>frame</td>\n",
              "      <td>door</td>\n",
              "      <td>concrete</td>\n",
              "      <td>storage</td>\n",
              "      <td>landscape</td>\n",
              "      <td>california</td>\n",
              "      <td>product</td>\n",
              "    </tr>\n",
              "    <tr>\n",
              "      <th>3</th>\n",
              "      <td>storage</td>\n",
              "      <td>concrete</td>\n",
              "      <td>landscape</td>\n",
              "      <td>california</td>\n",
              "      <td>product</td>\n",
              "      <td>shelf</td>\n",
              "      <td>proposition</td>\n",
              "    </tr>\n",
              "    <tr>\n",
              "      <th>4</th>\n",
              "      <td>concrete</td>\n",
              "      <td>landscape</td>\n",
              "      <td>california</td>\n",
              "      <td>product</td>\n",
              "      <td>proposition</td>\n",
              "      <td>volt</td>\n",
              "      <td>speed</td>\n",
              "    </tr>\n",
              "  </tbody>\n",
              "</table>\n",
              "</div>"
            ],
            "text/plain": [
              "   product1   product2    product3  ...     product5    product6     product7\n",
              "0     frame       door    concrete  ...    landscape     product        shelf\n",
              "1  concrete  landscape  california  ...  proposition        volt        speed\n",
              "2     frame       door    concrete  ...    landscape  california      product\n",
              "3   storage   concrete   landscape  ...      product       shelf  proposition\n",
              "4  concrete  landscape  california  ...  proposition        volt        speed\n",
              "\n",
              "[5 rows x 7 columns]"
            ]
          },
          "metadata": {},
          "execution_count": 156
        }
      ]
    },
    {
      "cell_type": "code",
      "metadata": {
        "id": "xjqARn3m1Y1-"
      },
      "source": [
        "usernames\n",
        "list1 = [userData, productRecommendations]\n",
        "\n",
        "df_col_merged = pd.concat(list1, axis=1)"
      ],
      "execution_count": 157,
      "outputs": []
    },
    {
      "cell_type": "code",
      "metadata": {
        "id": "MGAeQ8Ur1luI",
        "colab": {
          "base_uri": "https://localhost:8080/",
          "height": 419
        },
        "outputId": "5ec521f1-8e68-4b61-a081-2a88d2866afc"
      },
      "source": [
        "df_col_merged"
      ],
      "execution_count": 158,
      "outputs": [
        {
          "output_type": "execute_result",
          "data": {
            "text/html": [
              "<div>\n",
              "<style scoped>\n",
              "    .dataframe tbody tr th:only-of-type {\n",
              "        vertical-align: middle;\n",
              "    }\n",
              "\n",
              "    .dataframe tbody tr th {\n",
              "        vertical-align: top;\n",
              "    }\n",
              "\n",
              "    .dataframe thead th {\n",
              "        text-align: right;\n",
              "    }\n",
              "</style>\n",
              "<table border=\"1\" class=\"dataframe\">\n",
              "  <thead>\n",
              "    <tr style=\"text-align: right;\">\n",
              "      <th></th>\n",
              "      <th>userID</th>\n",
              "      <th>product1</th>\n",
              "      <th>product2</th>\n",
              "      <th>product3</th>\n",
              "      <th>product4</th>\n",
              "      <th>product5</th>\n",
              "      <th>product6</th>\n",
              "      <th>product7</th>\n",
              "    </tr>\n",
              "  </thead>\n",
              "  <tbody>\n",
              "    <tr>\n",
              "      <th>0</th>\n",
              "      <td>user0</td>\n",
              "      <td>frame</td>\n",
              "      <td>door</td>\n",
              "      <td>concrete</td>\n",
              "      <td>storage</td>\n",
              "      <td>landscape</td>\n",
              "      <td>product</td>\n",
              "      <td>shelf</td>\n",
              "    </tr>\n",
              "    <tr>\n",
              "      <th>1</th>\n",
              "      <td>user1</td>\n",
              "      <td>concrete</td>\n",
              "      <td>landscape</td>\n",
              "      <td>california</td>\n",
              "      <td>product</td>\n",
              "      <td>proposition</td>\n",
              "      <td>volt</td>\n",
              "      <td>speed</td>\n",
              "    </tr>\n",
              "    <tr>\n",
              "      <th>2</th>\n",
              "      <td>user2</td>\n",
              "      <td>frame</td>\n",
              "      <td>door</td>\n",
              "      <td>concrete</td>\n",
              "      <td>storage</td>\n",
              "      <td>landscape</td>\n",
              "      <td>california</td>\n",
              "      <td>product</td>\n",
              "    </tr>\n",
              "    <tr>\n",
              "      <th>3</th>\n",
              "      <td>user3</td>\n",
              "      <td>storage</td>\n",
              "      <td>concrete</td>\n",
              "      <td>landscape</td>\n",
              "      <td>california</td>\n",
              "      <td>product</td>\n",
              "      <td>shelf</td>\n",
              "      <td>proposition</td>\n",
              "    </tr>\n",
              "    <tr>\n",
              "      <th>4</th>\n",
              "      <td>user4</td>\n",
              "      <td>concrete</td>\n",
              "      <td>landscape</td>\n",
              "      <td>california</td>\n",
              "      <td>product</td>\n",
              "      <td>proposition</td>\n",
              "      <td>volt</td>\n",
              "      <td>speed</td>\n",
              "    </tr>\n",
              "    <tr>\n",
              "      <th>...</th>\n",
              "      <td>...</td>\n",
              "      <td>...</td>\n",
              "      <td>...</td>\n",
              "      <td>...</td>\n",
              "      <td>...</td>\n",
              "      <td>...</td>\n",
              "      <td>...</td>\n",
              "      <td>...</td>\n",
              "    </tr>\n",
              "    <tr>\n",
              "      <th>195</th>\n",
              "      <td>user195</td>\n",
              "      <td>concrete</td>\n",
              "      <td>landscape</td>\n",
              "      <td>california</td>\n",
              "      <td>product</td>\n",
              "      <td>proposition</td>\n",
              "      <td>volt</td>\n",
              "      <td>speed</td>\n",
              "    </tr>\n",
              "    <tr>\n",
              "      <th>196</th>\n",
              "      <td>user196</td>\n",
              "      <td>concrete</td>\n",
              "      <td>landscape</td>\n",
              "      <td>california</td>\n",
              "      <td>product</td>\n",
              "      <td>proposition</td>\n",
              "      <td>volt</td>\n",
              "      <td>speed</td>\n",
              "    </tr>\n",
              "    <tr>\n",
              "      <th>197</th>\n",
              "      <td>user197</td>\n",
              "      <td>frame</td>\n",
              "      <td>door</td>\n",
              "      <td>california</td>\n",
              "      <td>proposition</td>\n",
              "      <td>volt</td>\n",
              "      <td>patio</td>\n",
              "      <td>speed</td>\n",
              "    </tr>\n",
              "    <tr>\n",
              "      <th>198</th>\n",
              "      <td>user198</td>\n",
              "      <td>concrete</td>\n",
              "      <td>landscape</td>\n",
              "      <td>california</td>\n",
              "      <td>bulb</td>\n",
              "      <td>product</td>\n",
              "      <td>proposition</td>\n",
              "      <td>volt</td>\n",
              "    </tr>\n",
              "    <tr>\n",
              "      <th>199</th>\n",
              "      <td>user199</td>\n",
              "      <td>storage</td>\n",
              "      <td>california</td>\n",
              "      <td>bulb</td>\n",
              "      <td>shelf</td>\n",
              "      <td>proposition</td>\n",
              "      <td>volt</td>\n",
              "      <td>fixture</td>\n",
              "    </tr>\n",
              "  </tbody>\n",
              "</table>\n",
              "<p>200 rows × 8 columns</p>\n",
              "</div>"
            ],
            "text/plain": [
              "      userID  product1    product2  ...     product5     product6     product7\n",
              "0      user0     frame        door  ...    landscape      product        shelf\n",
              "1      user1  concrete   landscape  ...  proposition         volt        speed\n",
              "2      user2     frame        door  ...    landscape   california      product\n",
              "3      user3   storage    concrete  ...      product        shelf  proposition\n",
              "4      user4  concrete   landscape  ...  proposition         volt        speed\n",
              "..       ...       ...         ...  ...          ...          ...          ...\n",
              "195  user195  concrete   landscape  ...  proposition         volt        speed\n",
              "196  user196  concrete   landscape  ...  proposition         volt        speed\n",
              "197  user197     frame        door  ...         volt        patio        speed\n",
              "198  user198  concrete   landscape  ...      product  proposition         volt\n",
              "199  user199   storage  california  ...  proposition         volt      fixture\n",
              "\n",
              "[200 rows x 8 columns]"
            ]
          },
          "metadata": {},
          "execution_count": 158
        }
      ]
    }
  ]
}