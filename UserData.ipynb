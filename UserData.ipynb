{
  "nbformat": 4,
  "nbformat_minor": 0,
  "metadata": {
    "colab": {
      "name": "UserData.ipynb",
      "private_outputs": true,
      "provenance": [],
      "collapsed_sections": []
    },
    "kernelspec": {
      "name": "python3",
      "display_name": "Python 3"
    },
    "language_info": {
      "name": "python"
    }
  },
  "cells": [
    {
      "cell_type": "markdown",
      "metadata": {
        "id": "NcPHp8y6BNhd"
      },
      "source": [
        "# Created Usernames"
      ]
    },
    {
      "cell_type": "code",
      "metadata": {
        "id": "fzDwZq_NA-mR"
      },
      "source": [
        "usernames = []\n",
        "\n",
        "\n",
        "for i in list(range(200)):\n",
        "  userName = \"user\" + str(i)\n",
        "  usernames.append(userName)\n",
        "\n",
        "print(usernames)"
      ],
      "execution_count": null,
      "outputs": []
    },
    {
      "cell_type": "markdown",
      "metadata": {
        "id": "qM3GhS3PBwOi"
      },
      "source": [
        "# Turning the user list into dataframe"
      ]
    },
    {
      "cell_type": "code",
      "metadata": {
        "id": "DF8WzyN8BTOl"
      },
      "source": [
        "import pandas as pd\n",
        "import random\n",
        "from pandas.io import gbq\n",
        "from sklearn.feature_extraction.text import TfidfVectorizer, CountVectorizer\n",
        "from sklearn.neighbors import NearestNeighbors\n",
        "from sklearn.cluster import KMeans\n",
        "from sklearn.metrics import adjusted_rand_score\n",
        "import pandas as pd\n",
        "import matplotlib.pyplot as plt\n"
      ],
      "execution_count": null,
      "outputs": []
    },
    {
      "cell_type": "code",
      "metadata": {
        "id": "ZGUmJdooBWlY"
      },
      "source": [
        "userData = pd.DataFrame(usernames, columns=['userID'])\n",
        "userData.head()\n"
      ],
      "execution_count": null,
      "outputs": []
    },
    {
      "cell_type": "code",
      "metadata": {
        "id": "gBLvxMtbCu67"
      },
      "source": [
        "products = pd.read_csv('product_descriptions.csv')\n",
        "products2 = pd.read_csv('product_descriptions.csv')\n",
        "products.head()"
      ],
      "execution_count": null,
      "outputs": []
    },
    {
      "cell_type": "code",
      "metadata": {
        "id": "qexoNcNQDQgV"
      },
      "source": [
        "productListForUser = []\n",
        "\n",
        "for i in list(range(200)):\n",
        "  samples = products['product_description'].sample(5)\n",
        "  productListForUser.append(list(samples))\n"
      ],
      "execution_count": null,
      "outputs": []
    },
    {
      "cell_type": "code",
      "metadata": {
        "id": "STmEtdoqLY2J"
      },
      "source": [
        "products = pd.DataFrame(productListForUser, columns = ['product1', 'product2', 'product3', 'product4', 'product5'])\n",
        "products.head(5)"
      ],
      "execution_count": null,
      "outputs": []
    },
    {
      "cell_type": "code",
      "metadata": {
        "id": "qeDgxVMeL3xX"
      },
      "source": [
        "list1 = [userData, products]\n",
        "\n",
        "df_col_merged = pd.concat(list1, axis=1)\n",
        "df_col_merged.head()"
      ],
      "execution_count": null,
      "outputs": []
    },
    {
      "cell_type": "markdown",
      "metadata": {
        "id": "4JB8qH183BR7"
      },
      "source": [
        "# Store the products and users into Database Table"
      ]
    },
    {
      "cell_type": "code",
      "metadata": {
        "id": "HW81zDRGNTIx"
      },
      "source": [
        "df_col_merged.to_gbq(destination_table='userFakeData.data1', project_id='eshopserver', if_exists='replace')"
      ],
      "execution_count": null,
      "outputs": []
    },
    {
      "cell_type": "markdown",
      "metadata": {
        "id": "wMB2P-bY3RO7"
      },
      "source": [
        "# Building The Model "
      ]
    },
    {
      "cell_type": "code",
      "metadata": {
        "id": "XrtUl4EUTkTU"
      },
      "source": [
        "vectorizer = TfidfVectorizer(stop_words='english')\n",
        "X1 = vectorizer.fit_transform(products2[\"product_description\"][0:1000])\n",
        "X1"
      ],
      "execution_count": null,
      "outputs": []
    },
    {
      "cell_type": "code",
      "metadata": {
        "id": "KzjMn958XN74"
      },
      "source": [
        "X=X1\n",
        "kmeans = KMeans(n_clusters = 10, init = 'k-means++')\n",
        "y_kmeans = kmeans.fit_predict(X)\n",
        "plt.plot(y_kmeans, \".\")\n",
        "plt.xlabel('datapoints')\n",
        "plt.ylabel('cluster no.')\n",
        "plt.show()"
      ],
      "execution_count": null,
      "outputs": []
    },
    {
      "cell_type": "code",
      "metadata": {
        "id": "o_GQSOHysHkb"
      },
      "source": [
        "def print_cluster(i):\n",
        "    print (\"Cluster %d:\" % i),\n",
        "    for ind in order_centroids[i, :10]:\n",
        "        print (' %s' % terms[ind]),\n",
        "    print"
      ],
      "execution_count": null,
      "outputs": []
    },
    {
      "cell_type": "code",
      "metadata": {
        "id": "v6ys_q8xuNVd"
      },
      "source": [
        "def return_cluster(i):\n",
        "    list1 = []\n",
        "    for ind in order_centroids[i, :10]:\n",
        "        # print (' %s' % terms[ind]), print\n",
        "        list1.append(terms[ind])\n",
        "\n",
        "    return list1"
      ],
      "execution_count": null,
      "outputs": []
    },
    {
      "cell_type": "markdown",
      "metadata": {
        "id": "3XIx4HCM3Ya4"
      },
      "source": [
        "# Creating Groups using the Model"
      ]
    },
    {
      "cell_type": "code",
      "metadata": {
        "id": "Tpo_9TLYtCGu"
      },
      "source": [
        "true_k = 10\n",
        "model = KMeans(n_clusters=true_k, init='k-means++', max_iter=100, n_init=1)\n",
        "model.fit(X1)\n",
        "print(\"Top terms per cluster:\")\n",
        "order_centroids = model.cluster_centers_.argsort()[:, ::-1]\n",
        "terms = vectorizer.get_feature_names()\n",
        "for i in range(true_k):\n",
        "    print_cluster(i)"
      ],
      "execution_count": null,
      "outputs": []
    },
    {
      "cell_type": "markdown",
      "metadata": {
        "id": "lkAH2HMo3iq8"
      },
      "source": [
        "# Predict Products to recommend based on the product the customer purchased"
      ]
    },
    {
      "cell_type": "code",
      "metadata": {
        "id": "l1t7YIbStjO2"
      },
      "source": [
        "def show_recommendations2(product):\n",
        "    Y = vectorizer.transform([product]) #put it in numbers\n",
        "    prediction = model.predict(Y) #using those numbers, we find the nearby cluster\n",
        "    return (return_cluster(prediction[0])) "
      ],
      "execution_count": null,
      "outputs": []
    },
    {
      "cell_type": "code",
      "metadata": {
        "id": "JwippPwbtNzB"
      },
      "source": [
        "show_recommendations2('Shower cap')"
      ],
      "execution_count": null,
      "outputs": []
    },
    {
      "cell_type": "code",
      "metadata": {
        "id": "TH-TaXPqtbuT"
      },
      "source": [
        "maindflist = df_col_merged[['product1', 'product2', 'product3', 'product4', 'product5']].values.tolist()"
      ],
      "execution_count": null,
      "outputs": []
    },
    {
      "cell_type": "markdown",
      "metadata": {
        "id": "UdbBCUnK34s3"
      },
      "source": [
        "# Predict Products to recommend based on all the products the customer purchased"
      ]
    },
    {
      "cell_type": "code",
      "metadata": {
        "id": "HE4dC7RkwgAM"
      },
      "source": [
        "recommendedProductsForEachUser = []\n",
        "\n",
        "for i in maindflist:\n",
        "  allProductsForUser = []\n",
        "  for j in i:\n",
        "    tenProducts = list(show_recommendations2(j))\n",
        "    count1 = 0\n",
        "    for k in tenProducts:\n",
        "      allProductsForUser.append(k)\n",
        "      count1 = count1 + 1\n",
        "      if count1 == 6:\n",
        "        break\n",
        "\n",
        "  random.shuffle(allProductsForUser)\n",
        "  allProductsForUser = set(allProductsForUser)\n",
        "  allProductsForUser = list(allProductsForUser)\n",
        "  recommendedProductsForEachUser.append(allProductsForUser[0:7])\n",
        "productRecommendations = pd.DataFrame(recommendedProductsForEachUser, columns = ['product1', 'product2', 'product3', 'product4', 'product5', 'product6', 'product7'])\n",
        "\n",
        "productRecommendations.head()\n",
        "\n",
        "# ok so for each product and for each row\n",
        "  # I need to recommend product\n",
        "    # then I need to find recommended products of the product\n",
        "    # I have to pick 2 reccomended products and store it in the list\n",
        "  # Then after I get the list for the user\n",
        "  # I will have to make sure the products don't repeat \n",
        "  # then I put it in list of lists \n"
      ],
      "execution_count": null,
      "outputs": []
    },
    {
      "cell_type": "code",
      "metadata": {
        "id": "xjqARn3m1Y1-"
      },
      "source": [
        "usernames\n",
        "list1 = [userData, productRecommendations]\n",
        "\n",
        "df_col_merged = pd.concat(list1, axis=1)"
      ],
      "execution_count": null,
      "outputs": []
    },
    {
      "cell_type": "code",
      "metadata": {
        "id": "MGAeQ8Ur1luI"
      },
      "source": [
        "df_col_merged"
      ],
      "execution_count": null,
      "outputs": []
    }
  ]
}