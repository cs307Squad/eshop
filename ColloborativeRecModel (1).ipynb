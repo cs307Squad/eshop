{
  "nbformat": 4,
  "nbformat_minor": 0,
  "metadata": {
    "colab": {
      "name": "ColloborativeRecModel.ipynb",
      "provenance": [],
      "collapsed_sections": []
    },
    "kernelspec": {
      "name": "python3",
      "display_name": "Python 3"
    },
    "language_info": {
      "name": "python"
    }
  },
  "cells": [
    {
      "cell_type": "code",
      "metadata": {
        "id": "BHqWmEx3DQ4T"
      },
      "source": [
        "#created kmeans model"
      ],
      "execution_count": null,
      "outputs": []
    },
    {
      "cell_type": "code",
      "metadata": {
        "id": "VSt214Jz4aZA"
      },
      "source": [
        "from sklearn.feature_extraction.text import TfidfVectorizer, CountVectorizer\n",
        "from sklearn.neighbors import NearestNeighbors\n",
        "from sklearn.cluster import KMeans\n",
        "from sklearn.metrics import adjusted_rand_score\n",
        "import pandas as pd\n",
        "import matplotlib.pyplot as plt\n"
      ],
      "execution_count": 2,
      "outputs": []
    },
    {
      "cell_type": "code",
      "metadata": {
        "id": "o_buUgDM4s36"
      },
      "source": [
        "product_descriptions = pd.read_csv('product_descriptions.csv')"
      ],
      "execution_count": 3,
      "outputs": []
    },
    {
      "cell_type": "code",
      "metadata": {
        "id": "v5DlZ01A5BNE",
        "colab": {
          "base_uri": "https://localhost:8080/",
          "height": 204
        },
        "outputId": "1886d20c-7764-43c8-8b3e-7c42a07373ac"
      },
      "source": [
        "product_descriptions = product_descriptions.dropna()\n",
        "product_descriptions.head()"
      ],
      "execution_count": 4,
      "outputs": [
        {
          "output_type": "execute_result",
          "data": {
            "text/html": [
              "<div>\n",
              "<style scoped>\n",
              "    .dataframe tbody tr th:only-of-type {\n",
              "        vertical-align: middle;\n",
              "    }\n",
              "\n",
              "    .dataframe tbody tr th {\n",
              "        vertical-align: top;\n",
              "    }\n",
              "\n",
              "    .dataframe thead th {\n",
              "        text-align: right;\n",
              "    }\n",
              "</style>\n",
              "<table border=\"1\" class=\"dataframe\">\n",
              "  <thead>\n",
              "    <tr style=\"text-align: right;\">\n",
              "      <th></th>\n",
              "      <th>product_uid</th>\n",
              "      <th>product_description</th>\n",
              "    </tr>\n",
              "  </thead>\n",
              "  <tbody>\n",
              "    <tr>\n",
              "      <th>0</th>\n",
              "      <td>100001</td>\n",
              "      <td>Not only do angles make joints stronger, they ...</td>\n",
              "    </tr>\n",
              "    <tr>\n",
              "      <th>1</th>\n",
              "      <td>100002</td>\n",
              "      <td>BEHR Premium Textured DECKOVER is an innovativ...</td>\n",
              "    </tr>\n",
              "    <tr>\n",
              "      <th>2</th>\n",
              "      <td>100003</td>\n",
              "      <td>Classic architecture meets contemporary design...</td>\n",
              "    </tr>\n",
              "    <tr>\n",
              "      <th>3</th>\n",
              "      <td>100004</td>\n",
              "      <td>The Grape Solar 265-Watt Polycrystalline PV So...</td>\n",
              "    </tr>\n",
              "    <tr>\n",
              "      <th>4</th>\n",
              "      <td>100005</td>\n",
              "      <td>Update your bathroom with the Delta Vero Singl...</td>\n",
              "    </tr>\n",
              "  </tbody>\n",
              "</table>\n",
              "</div>"
            ],
            "text/plain": [
              "   product_uid                                product_description\n",
              "0       100001  Not only do angles make joints stronger, they ...\n",
              "1       100002  BEHR Premium Textured DECKOVER is an innovativ...\n",
              "2       100003  Classic architecture meets contemporary design...\n",
              "3       100004  The Grape Solar 265-Watt Polycrystalline PV So...\n",
              "4       100005  Update your bathroom with the Delta Vero Singl..."
            ]
          },
          "metadata": {},
          "execution_count": 4
        }
      ]
    },
    {
      "cell_type": "code",
      "metadata": {
        "id": "uF5qFPhX66p1",
        "colab": {
          "base_uri": "https://localhost:8080/"
        },
        "outputId": "60c0bf58-3042-41ed-c5f6-4385421a9200"
      },
      "source": [
        "product_descriptions1 = product_descriptions.head(500)\n",
        "# product_descriptions1.iloc[:,1]\n",
        "\n",
        "product_descriptions1[\"product_description\"].head(10)"
      ],
      "execution_count": 5,
      "outputs": [
        {
          "output_type": "execute_result",
          "data": {
            "text/plain": [
              "0    Not only do angles make joints stronger, they ...\n",
              "1    BEHR Premium Textured DECKOVER is an innovativ...\n",
              "2    Classic architecture meets contemporary design...\n",
              "3    The Grape Solar 265-Watt Polycrystalline PV So...\n",
              "4    Update your bathroom with the Delta Vero Singl...\n",
              "5    Achieving delicious results is almost effortle...\n",
              "6    The Quantum Adjustable 2-Light LED Black Emerg...\n",
              "7    The Teks #10 x 1-1/2 in. Zinc-Plated Steel Was...\n",
              "8    Get the House of Fara 3/4 in. x 3 in. x 8 ft. ...\n",
              "9    Valley View Industries Metal Stakes (4-Pack) a...\n",
              "Name: product_description, dtype: object"
            ]
          },
          "metadata": {},
          "execution_count": 5
        }
      ]
    },
    {
      "cell_type": "code",
      "metadata": {
        "id": "OlSGh8VU6qW4",
        "colab": {
          "base_uri": "https://localhost:8080/"
        },
        "outputId": "0b19fd08-bb5e-4d9d-f3fb-7f2e688248ac"
      },
      "source": [
        "vectorizer = TfidfVectorizer(stop_words='english')\n",
        "X1 = vectorizer.fit_transform(product_descriptions1[\"product_description\"])\n",
        "X1"
      ],
      "execution_count": 6,
      "outputs": [
        {
          "output_type": "execute_result",
          "data": {
            "text/plain": [
              "<500x8932 sparse matrix of type '<class 'numpy.float64'>'\n",
              "\twith 34817 stored elements in Compressed Sparse Row format>"
            ]
          },
          "metadata": {},
          "execution_count": 6
        }
      ]
    },
    {
      "cell_type": "code",
      "metadata": {
        "id": "E50DHf3068U7",
        "colab": {
          "base_uri": "https://localhost:8080/"
        },
        "outputId": "c19112f3-1932-429b-a600-35114dfe4500"
      },
      "source": [
        "X1"
      ],
      "execution_count": 7,
      "outputs": [
        {
          "output_type": "execute_result",
          "data": {
            "text/plain": [
              "<500x8932 sparse matrix of type '<class 'numpy.float64'>'\n",
              "\twith 34817 stored elements in Compressed Sparse Row format>"
            ]
          },
          "metadata": {},
          "execution_count": 7
        }
      ]
    },
    {
      "cell_type": "code",
      "metadata": {
        "id": "1pSn4enV777v",
        "colab": {
          "base_uri": "https://localhost:8080/",
          "height": 265
        },
        "outputId": "69ec7281-945b-4d9c-c5bc-162d06974aa7"
      },
      "source": [
        "X=X1\n",
        "\n",
        "kmeans = KMeans(n_clusters = 10, init = 'k-means++')\n",
        "y_kmeans = kmeans.fit_predict(X)\n",
        "plt.plot(y_kmeans, \".\")\n",
        "plt.show()"
      ],
      "execution_count": 8,
      "outputs": [
        {
          "output_type": "display_data",
          "data": {
            "image/png": "[encoded data removed]",
            "text/plain": [
              "<Figure size 432x288 with 1 Axes>"
            ]
          },
          "metadata": {
            "needs_background": "light"
          }
        }
      ]
    },
    {
      "cell_type": "code",
      "metadata": {
        "id": "jgKXnV4l8XZy"
      },
      "source": [
        "def print_cluster(i):\n",
        "    print (\"Cluster %d:\" % i),\n",
        "    for ind in order_centroids[i, :10]:\n",
        "        print (' %s' % terms[ind]),\n",
        "    print\n",
        "\n",
        "def just_cluster(i):\n",
        "    return i"
      ],
      "execution_count": 9,
      "outputs": []
    },
    {
      "cell_type": "code",
      "metadata": {
        "id": "ydbdQFwZ8cBo",
        "colab": {
          "base_uri": "https://localhost:8080/"
        },
        "outputId": "1d985bb8-103e-489a-c2c2-2e2b19e4cd1f"
      },
      "source": [
        "true_k = 10\n",
        "\n",
        "model = KMeans(n_clusters=true_k, init='k-means++', max_iter=100, n_init=1)\n",
        "model.fit(X1)\n",
        "\n",
        "print(\"Top terms per cluster:\")\n",
        "order_centroids = model.cluster_centers_.argsort()[:, ::-1]\n",
        "terms = vectorizer.get_feature_names()\n",
        "for i in range(true_k):\n",
        "    print_cluster(i)"
      ],
      "execution_count": 10,
      "outputs": [
        {
          "output_type": "stream",
          "name": "stdout",
          "text": [
            "Top terms per cluster:\n",
            "Cluster 0:\n",
            " power\n",
            " light\n",
            " air\n",
            " watt\n",
            " volt\n",
            " led\n",
            " fan\n",
            " control\n",
            " plan\n",
            " depot\n",
            "Cluster 1:\n",
            " frame\n",
            " patio\n",
            " fabric\n",
            " rust\n",
            " collection\n",
            " outdoor\n",
            " aluminum\n",
            " dining\n",
            " color\n",
            " ft\n",
            "Cluster 2:\n",
            " water\n",
            " toilet\n",
            " tank\n",
            " flush\n",
            " cycle\n",
            " valve\n",
            " temperature\n",
            " design\n",
            " handle\n",
            " heater\n",
            "Cluster 3:\n",
            " proposition\n",
            " nbsp\n",
            " residents\n",
            " california\n",
            " 65\n",
            " door\n",
            " painted\n",
            " ft\n",
            " wood\n",
            " moulding\n",
            "Cluster 4:\n",
            " storage\n",
            " shelves\n",
            " shelf\n",
            " lbs\n",
            " easy\n",
            " adjustable\n",
            " vinyl\n",
            " brackets\n",
            " finish\n",
            " durable\n",
            "Cluster 5:\n",
            " cooking\n",
            " oven\n",
            " porcelain\n",
            " easy\n",
            " grill\n",
            " removable\n",
            " burner\n",
            " paint\n",
            " lid\n",
            " away\n",
            "Cluster 6:\n",
            " watering\n",
            " plants\n",
            " stake\n",
            " easy\n",
            " rug\n",
            " garden\n",
            " vary\n",
            " head\n",
            " water\n",
            " sprinkler\n",
            "Cluster 7:\n",
            " metal\n",
            " gauge\n",
            " steel\n",
            " drill\n",
            " hole\n",
            " screw\n",
            " screws\n",
            " work\n",
            " pre\n",
            " use\n",
            "Cluster 8:\n",
            " insulation\n",
            " attic\n",
            " ladder\n",
            " energy\n",
            " fiberglass\n",
            " film\n",
            " radiant\n",
            " tape\n",
            " easy\n",
            " helps\n",
            "Cluster 9:\n",
            " wall\n",
            " panels\n",
            " ft\n",
            " plate\n",
            " lbs\n",
            " 100\n",
            " speaker\n",
            " use\n",
            " tile\n",
            " design\n"
          ]
        }
      ]
    },
    {
      "cell_type": "code",
      "metadata": {
        "id": "IGPl8x9x-kWQ"
      },
      "source": [
        "def show_recommendations(product):\n",
        "    #print(\"Cluster ID:\")\n",
        "    Y = vectorizer.transform([product]) #put it in numbers\n",
        "    prediction = model.predict(Y) #using those numbers, we find the nearby cluster\n",
        "    #print(prediction)\n",
        "    print_cluster(prediction[0]) \n",
        "\n",
        "def show_recommendations2(product):\n",
        "    #print(\"Cluster ID:\")\n",
        "    Y = vectorizer.transform([product]) #put it in numbers\n",
        "    prediction = model.predict(Y) #using those numbers, we find the nearby cluster\n",
        "    #print(prediction)\n",
        "    return (prediction[0])\n"
      ],
      "execution_count": 11,
      "outputs": []
    },
    {
      "cell_type": "code",
      "metadata": {
        "id": "zP3QO70h--wn",
        "colab": {
          "base_uri": "https://localhost:8080/"
        },
        "outputId": "f1b17cd1-7c1c-43ea-e4c7-18898ad7ca39"
      },
      "source": [
        "show_recommendations(\"spray paint\")"
      ],
      "execution_count": null,
      "outputs": [
        {
          "output_type": "stream",
          "name": "stdout",
          "text": [
            "Cluster 9:\n",
            " paint\n",
            " easy\n",
            " roller\n",
            " tool\n",
            " ft\n",
            " wood\n",
            " water\n",
            " brush\n",
            " tape\n",
            " smooth\n"
          ]
        }
      ]
    },
    {
      "cell_type": "code",
      "metadata": {
        "id": "3Wu-0o5nDPCK"
      },
      "source": [
        "#testing the model"
      ],
      "execution_count": null,
      "outputs": []
    },
    {
      "cell_type": "code",
      "metadata": {
        "id": "Gzu14sXKABrw"
      },
      "source": [
        "Home = pd.read_csv('test.csv',encoding='latin-1')"
      ],
      "execution_count": 12,
      "outputs": []
    },
    {
      "cell_type": "code",
      "metadata": {
        "id": "xnURCOyvAGB_",
        "colab": {
          "base_uri": "https://localhost:8080/",
          "height": 419
        },
        "outputId": "2d6b241d-d5fa-4615-bbe2-c518f92ca13f"
      },
      "source": [
        "Home.head(100) #too specific to test for my case"
      ],
      "execution_count": 13,
      "outputs": [
        {
          "output_type": "execute_result",
          "data": {
            "text/html": [
              "<div>\n",
              "<style scoped>\n",
              "    .dataframe tbody tr th:only-of-type {\n",
              "        vertical-align: middle;\n",
              "    }\n",
              "\n",
              "    .dataframe tbody tr th {\n",
              "        vertical-align: top;\n",
              "    }\n",
              "\n",
              "    .dataframe thead th {\n",
              "        text-align: right;\n",
              "    }\n",
              "</style>\n",
              "<table border=\"1\" class=\"dataframe\">\n",
              "  <thead>\n",
              "    <tr style=\"text-align: right;\">\n",
              "      <th></th>\n",
              "      <th>id</th>\n",
              "      <th>product_uid</th>\n",
              "      <th>product_title</th>\n",
              "      <th>search_term</th>\n",
              "    </tr>\n",
              "  </thead>\n",
              "  <tbody>\n",
              "    <tr>\n",
              "      <th>0</th>\n",
              "      <td>1</td>\n",
              "      <td>100001</td>\n",
              "      <td>Simpson Strong-Tie 12-Gauge Angle</td>\n",
              "      <td>90 degree bracket</td>\n",
              "    </tr>\n",
              "    <tr>\n",
              "      <th>1</th>\n",
              "      <td>4</td>\n",
              "      <td>100001</td>\n",
              "      <td>Simpson Strong-Tie 12-Gauge Angle</td>\n",
              "      <td>metal l brackets</td>\n",
              "    </tr>\n",
              "    <tr>\n",
              "      <th>2</th>\n",
              "      <td>5</td>\n",
              "      <td>100001</td>\n",
              "      <td>Simpson Strong-Tie 12-Gauge Angle</td>\n",
              "      <td>simpson sku able</td>\n",
              "    </tr>\n",
              "    <tr>\n",
              "      <th>3</th>\n",
              "      <td>6</td>\n",
              "      <td>100001</td>\n",
              "      <td>Simpson Strong-Tie 12-Gauge Angle</td>\n",
              "      <td>simpson strong  ties</td>\n",
              "    </tr>\n",
              "    <tr>\n",
              "      <th>4</th>\n",
              "      <td>7</td>\n",
              "      <td>100001</td>\n",
              "      <td>Simpson Strong-Tie 12-Gauge Angle</td>\n",
              "      <td>simpson strong tie hcc668</td>\n",
              "    </tr>\n",
              "    <tr>\n",
              "      <th>...</th>\n",
              "      <td>...</td>\n",
              "      <td>...</td>\n",
              "      <td>...</td>\n",
              "      <td>...</td>\n",
              "    </tr>\n",
              "    <tr>\n",
              "      <th>95</th>\n",
              "      <td>131</td>\n",
              "      <td>100024</td>\n",
              "      <td>Goal Zero Yeti 1250-Watt Solar Generator with ...</td>\n",
              "      <td>panel cart</td>\n",
              "    </tr>\n",
              "    <tr>\n",
              "      <th>96</th>\n",
              "      <td>132</td>\n",
              "      <td>100024</td>\n",
              "      <td>Goal Zero Yeti 1250-Watt Solar Generator with ...</td>\n",
              "      <td>solar panel</td>\n",
              "    </tr>\n",
              "    <tr>\n",
              "      <th>97</th>\n",
              "      <td>133</td>\n",
              "      <td>100025</td>\n",
              "      <td>Stal wart 220 lbs. Adjustable Telescopic Furni...</td>\n",
              "      <td>furniture dolly</td>\n",
              "    </tr>\n",
              "    <tr>\n",
              "      <th>98</th>\n",
              "      <td>134</td>\n",
              "      <td>100026</td>\n",
              "      <td>Nantucket Pavers Patio-on-a-Pallet 10 ft. x 10...</td>\n",
              "      <td>12 x 18 brick pavers</td>\n",
              "    </tr>\n",
              "    <tr>\n",
              "      <th>99</th>\n",
              "      <td>135</td>\n",
              "      <td>100026</td>\n",
              "      <td>Nantucket Pavers Patio-on-a-Pallet 10 ft. x 10...</td>\n",
              "      <td>16x24 concrete pavers</td>\n",
              "    </tr>\n",
              "  </tbody>\n",
              "</table>\n",
              "<p>100 rows × 4 columns</p>\n",
              "</div>"
            ],
            "text/plain": [
              "     id  ...                search_term\n",
              "0     1  ...          90 degree bracket\n",
              "1     4  ...           metal l brackets\n",
              "2     5  ...           simpson sku able\n",
              "3     6  ...       simpson strong  ties\n",
              "4     7  ...  simpson strong tie hcc668\n",
              "..  ...  ...                        ...\n",
              "95  131  ...                 panel cart\n",
              "96  132  ...                solar panel\n",
              "97  133  ...            furniture dolly\n",
              "98  134  ...       12 x 18 brick pavers\n",
              "99  135  ...      16x24 concrete pavers\n",
              "\n",
              "[100 rows x 4 columns]"
            ]
          },
          "metadata": {},
          "execution_count": 13
        }
      ]
    },
    {
      "cell_type": "code",
      "metadata": {
        "id": "3V7Aln___Mp5"
      },
      "source": [
        "from sklearn.metrics import classification_report\n",
        "from sklearn.metrics import confusion_matrix"
      ],
      "execution_count": 14,
      "outputs": []
    },
    {
      "cell_type": "code",
      "metadata": {
        "id": "XAioYIDF8b6b",
        "colab": {
          "base_uri": "https://localhost:8080/",
          "height": 289
        },
        "outputId": "fbc7fe16-8fa7-449b-8cdb-a7c0827c3427"
      },
      "source": [
        "Set1 = pd.read_excel('sheet1.xlsx') #tech\n",
        "Set1['result'] = 'tech'\n",
        "Set1.head()"
      ],
      "execution_count": 15,
      "outputs": [
        {
          "output_type": "execute_result",
          "data": {
            "text/html": [
              "<div>\n",
              "<style scoped>\n",
              "    .dataframe tbody tr th:only-of-type {\n",
              "        vertical-align: middle;\n",
              "    }\n",
              "\n",
              "    .dataframe tbody tr th {\n",
              "        vertical-align: top;\n",
              "    }\n",
              "\n",
              "    .dataframe thead th {\n",
              "        text-align: right;\n",
              "    }\n",
              "</style>\n",
              "<table border=\"1\" class=\"dataframe\">\n",
              "  <thead>\n",
              "    <tr style=\"text-align: right;\">\n",
              "      <th></th>\n",
              "      <th>name</th>\n",
              "      <th>url</th>\n",
              "      <th>rating</th>\n",
              "      <th>price</th>\n",
              "      <th>number_rating</th>\n",
              "      <th>image_url</th>\n",
              "      <th>result</th>\n",
              "    </tr>\n",
              "  </thead>\n",
              "  <tbody>\n",
              "    <tr>\n",
              "      <th>0</th>\n",
              "      <td>Fire TV Stick 4K streaming device with Alexa V...</td>\n",
              "      <td>https://www.amazon.com/Fire-TV-Stick-4K-with-A...</td>\n",
              "      <td>4.7 out of 5 stars</td>\n",
              "      <td>49.99</td>\n",
              "      <td>729233.0</td>\n",
              "      <td>https://images-na.ssl-images-amazon.com/images...</td>\n",
              "      <td>tech</td>\n",
              "    </tr>\n",
              "    <tr>\n",
              "      <th>1</th>\n",
              "      <td>Fire TV Stick (3rd Gen) with Alexa Voice Remot...</td>\n",
              "      <td>https://www.amazon.com/fire-tv-stick-with-3rd-...</td>\n",
              "      <td>4.7 out of 5 stars</td>\n",
              "      <td>39.99</td>\n",
              "      <td>64054.0</td>\n",
              "      <td>https://images-na.ssl-images-amazon.com/images...</td>\n",
              "      <td>tech</td>\n",
              "    </tr>\n",
              "    <tr>\n",
              "      <th>2</th>\n",
              "      <td>Amazon Smart Plug, Works with Alexa â€“ A Cert...</td>\n",
              "      <td>https://www.amazon.com/Amazon-smart-plug-works...</td>\n",
              "      <td>4.7 out of 5 stars</td>\n",
              "      <td>24.99</td>\n",
              "      <td>447314.0</td>\n",
              "      <td>https://images-na.ssl-images-amazon.com/images...</td>\n",
              "      <td>tech</td>\n",
              "    </tr>\n",
              "    <tr>\n",
              "      <th>3</th>\n",
              "      <td>Fire TV Stick Lite with Alexa Voice Remote Lit...</td>\n",
              "      <td>https://www.amazon.com/fire-tv-stick-lite/dp/B...</td>\n",
              "      <td>4.7 out of 5 stars</td>\n",
              "      <td>29.99</td>\n",
              "      <td>195194.0</td>\n",
              "      <td>https://images-na.ssl-images-amazon.com/images...</td>\n",
              "      <td>tech</td>\n",
              "    </tr>\n",
              "    <tr>\n",
              "      <th>4</th>\n",
              "      <td>Echo Dot (3rd Gen) - Smart speaker with Alexa ...</td>\n",
              "      <td>https://www.amazon.com/Echo-Dot/dp/B07FZ8S74R/...</td>\n",
              "      <td>4.7 out of 5 stars</td>\n",
              "      <td>39.99</td>\n",
              "      <td>763471.0</td>\n",
              "      <td>https://images-na.ssl-images-amazon.com/images...</td>\n",
              "      <td>tech</td>\n",
              "    </tr>\n",
              "  </tbody>\n",
              "</table>\n",
              "</div>"
            ],
            "text/plain": [
              "                                                name  ... result\n",
              "0  Fire TV Stick 4K streaming device with Alexa V...  ...   tech\n",
              "1  Fire TV Stick (3rd Gen) with Alexa Voice Remot...  ...   tech\n",
              "2  Amazon Smart Plug, Works with Alexa â€“ A Cert...  ...   tech\n",
              "3  Fire TV Stick Lite with Alexa Voice Remote Lit...  ...   tech\n",
              "4  Echo Dot (3rd Gen) - Smart speaker with Alexa ...  ...   tech\n",
              "\n",
              "[5 rows x 7 columns]"
            ]
          },
          "metadata": {},
          "execution_count": 15
        }
      ]
    },
    {
      "cell_type": "code",
      "metadata": {
        "id": "htSQFU-f_5gE",
        "colab": {
          "base_uri": "https://localhost:8080/",
          "height": 289
        },
        "outputId": "9c0df0b3-abb8-4c4c-9c3d-3ccc2b8c786b"
      },
      "source": [
        "Set2 = pd.read_excel('sheet2.xlsx') #bedroom\n",
        "Set2['result'] = 'bed'\n",
        "Set2.head()"
      ],
      "execution_count": 16,
      "outputs": [
        {
          "output_type": "execute_result",
          "data": {
            "text/html": [
              "<div>\n",
              "<style scoped>\n",
              "    .dataframe tbody tr th:only-of-type {\n",
              "        vertical-align: middle;\n",
              "    }\n",
              "\n",
              "    .dataframe tbody tr th {\n",
              "        vertical-align: top;\n",
              "    }\n",
              "\n",
              "    .dataframe thead th {\n",
              "        text-align: right;\n",
              "    }\n",
              "</style>\n",
              "<table border=\"1\" class=\"dataframe\">\n",
              "  <thead>\n",
              "    <tr style=\"text-align: right;\">\n",
              "      <th></th>\n",
              "      <th>name</th>\n",
              "      <th>url</th>\n",
              "      <th>rating</th>\n",
              "      <th>price</th>\n",
              "      <th>number_rating</th>\n",
              "      <th>image_url</th>\n",
              "      <th>result</th>\n",
              "    </tr>\n",
              "  </thead>\n",
              "  <tbody>\n",
              "    <tr>\n",
              "      <th>0</th>\n",
              "      <td>Beckham Hotel Collection Bed Pillows for Sleep...</td>\n",
              "      <td>https://www.amazon.com/Beckham-Hotel-Collectio...</td>\n",
              "      <td>4.4 out of 5 stars</td>\n",
              "      <td>39.99</td>\n",
              "      <td>143394</td>\n",
              "      <td>https://images-na.ssl-images-amazon.com/images...</td>\n",
              "      <td>bed</td>\n",
              "    </tr>\n",
              "    <tr>\n",
              "      <th>1</th>\n",
              "      <td>Bedsure Satin Pillowcase for Hair and Skin Que...</td>\n",
              "      <td>https://www.amazon.com/Bedsure-Satin-Pillowcas...</td>\n",
              "      <td>4.5 out of 5 stars</td>\n",
              "      <td>8.99</td>\n",
              "      <td>202867</td>\n",
              "      <td>https://images-na.ssl-images-amazon.com/images...</td>\n",
              "      <td>bed</td>\n",
              "    </tr>\n",
              "    <tr>\n",
              "      <th>2</th>\n",
              "      <td>Queen Size Sheet Set - 4 Piece Set - Hotel Lux...</td>\n",
              "      <td>https://www.amazon.com/Queen-Size-Sheet-Set-Br...</td>\n",
              "      <td>4.6 out of 5 stars</td>\n",
              "      <td>29.99</td>\n",
              "      <td>131227</td>\n",
              "      <td>https://images-na.ssl-images-amazon.com/images...</td>\n",
              "      <td>bed</td>\n",
              "    </tr>\n",
              "    <tr>\n",
              "      <th>3</th>\n",
              "      <td>Mellanni Queen Sheet Set - Hotel Luxury 1800 B...</td>\n",
              "      <td>https://www.amazon.com/Mellanni-Bed-Sheet-Set-...</td>\n",
              "      <td>4.5 out of 5 stars</td>\n",
              "      <td>32.97</td>\n",
              "      <td>254382</td>\n",
              "      <td>https://images-na.ssl-images-amazon.com/images...</td>\n",
              "      <td>bed</td>\n",
              "    </tr>\n",
              "    <tr>\n",
              "      <th>4</th>\n",
              "      <td>Amazon Basics Lightweight Super Soft Easy Care...</td>\n",
              "      <td>https://www.amazon.com/AmazonBasics-Microfiber...</td>\n",
              "      <td>4.6 out of 5 stars</td>\n",
              "      <td>14.99</td>\n",
              "      <td>282648</td>\n",
              "      <td>https://images-na.ssl-images-amazon.com/images...</td>\n",
              "      <td>bed</td>\n",
              "    </tr>\n",
              "  </tbody>\n",
              "</table>\n",
              "</div>"
            ],
            "text/plain": [
              "                                                name  ... result\n",
              "0  Beckham Hotel Collection Bed Pillows for Sleep...  ...    bed\n",
              "1  Bedsure Satin Pillowcase for Hair and Skin Que...  ...    bed\n",
              "2  Queen Size Sheet Set - 4 Piece Set - Hotel Lux...  ...    bed\n",
              "3  Mellanni Queen Sheet Set - Hotel Luxury 1800 B...  ...    bed\n",
              "4  Amazon Basics Lightweight Super Soft Easy Care...  ...    bed\n",
              "\n",
              "[5 rows x 7 columns]"
            ]
          },
          "metadata": {},
          "execution_count": 16
        }
      ]
    },
    {
      "cell_type": "code",
      "metadata": {
        "id": "hs-rtE-nFKvC",
        "colab": {
          "base_uri": "https://localhost:8080/",
          "height": 289
        },
        "outputId": "d88b791f-af53-4b0d-ec9f-b52266ff1e63"
      },
      "source": [
        "Set3 = pd.read_excel('sheet3.xlsx') #kitchen\n",
        "Set3['result'] = 'kitchen'\n",
        "Set3.shape\n",
        "Set3.head()"
      ],
      "execution_count": 17,
      "outputs": [
        {
          "output_type": "execute_result",
          "data": {
            "text/html": [
              "<div>\n",
              "<style scoped>\n",
              "    .dataframe tbody tr th:only-of-type {\n",
              "        vertical-align: middle;\n",
              "    }\n",
              "\n",
              "    .dataframe tbody tr th {\n",
              "        vertical-align: top;\n",
              "    }\n",
              "\n",
              "    .dataframe thead th {\n",
              "        text-align: right;\n",
              "    }\n",
              "</style>\n",
              "<table border=\"1\" class=\"dataframe\">\n",
              "  <thead>\n",
              "    <tr style=\"text-align: right;\">\n",
              "      <th></th>\n",
              "      <th>name</th>\n",
              "      <th>url</th>\n",
              "      <th>rating</th>\n",
              "      <th>price</th>\n",
              "      <th>number_rating</th>\n",
              "      <th>image_url</th>\n",
              "      <th>result</th>\n",
              "    </tr>\n",
              "  </thead>\n",
              "  <tbody>\n",
              "    <tr>\n",
              "      <th>0</th>\n",
              "      <td>AGLUCKY Ice Maker Machine for Countertop, Port...</td>\n",
              "      <td>https://www.amazon.com/AGLUCKY-Machine-Counter...</td>\n",
              "      <td>4.5 out of 5 stars</td>\n",
              "      <td>124.99</td>\n",
              "      <td>8511</td>\n",
              "      <td>https://images-na.ssl-images-amazon.com/images...</td>\n",
              "      <td>kitchen</td>\n",
              "    </tr>\n",
              "    <tr>\n",
              "      <th>1</th>\n",
              "      <td>Portable Ice Maker, 26Lbs/24H Self-Cleaning Ic...</td>\n",
              "      <td>https://www.amazon.com/Portable-Ice-Maker-Self...</td>\n",
              "      <td>4.4 out of 5 stars</td>\n",
              "      <td>109.98</td>\n",
              "      <td>175</td>\n",
              "      <td>https://images-na.ssl-images-amazon.com/images...</td>\n",
              "      <td>kitchen</td>\n",
              "    </tr>\n",
              "    <tr>\n",
              "      <th>2</th>\n",
              "      <td>Igloo ICEB26BK Portable Electric Countertop 26...</td>\n",
              "      <td>https://www.amazon.com/Igloo-ICEB26BK-Portable...</td>\n",
              "      <td>4.3 out of 5 stars</td>\n",
              "      <td>129.99</td>\n",
              "      <td>8843</td>\n",
              "      <td>https://images-na.ssl-images-amazon.com/images...</td>\n",
              "      <td>kitchen</td>\n",
              "    </tr>\n",
              "    <tr>\n",
              "      <th>3</th>\n",
              "      <td>GE Profile Opal | Countertop Nugget Ice Maker ...</td>\n",
              "      <td>https://www.amazon.com/GE-Profile-Countertop-N...</td>\n",
              "      <td>4.5 out of 5 stars</td>\n",
              "      <td>579.00</td>\n",
              "      <td>12996</td>\n",
              "      <td>https://images-na.ssl-images-amazon.com/images...</td>\n",
              "      <td>kitchen</td>\n",
              "    </tr>\n",
              "    <tr>\n",
              "      <th>4</th>\n",
              "      <td>Koolatron KTCF155 Compact Chest 5.0 Cubic Feet...</td>\n",
              "      <td>https://www.amazon.com/Koolatron-KTCF155-Chest...</td>\n",
              "      <td>4.5 out of 5 stars</td>\n",
              "      <td>210.00</td>\n",
              "      <td>2977</td>\n",
              "      <td>https://images-na.ssl-images-amazon.com/images...</td>\n",
              "      <td>kitchen</td>\n",
              "    </tr>\n",
              "  </tbody>\n",
              "</table>\n",
              "</div>"
            ],
            "text/plain": [
              "                                                name  ...   result\n",
              "0  AGLUCKY Ice Maker Machine for Countertop, Port...  ...  kitchen\n",
              "1  Portable Ice Maker, 26Lbs/24H Self-Cleaning Ic...  ...  kitchen\n",
              "2  Igloo ICEB26BK Portable Electric Countertop 26...  ...  kitchen\n",
              "3  GE Profile Opal | Countertop Nugget Ice Maker ...  ...  kitchen\n",
              "4  Koolatron KTCF155 Compact Chest 5.0 Cubic Feet...  ...  kitchen\n",
              "\n",
              "[5 rows x 7 columns]"
            ]
          },
          "metadata": {},
          "execution_count": 17
        }
      ]
    },
    {
      "cell_type": "code",
      "metadata": {
        "id": "A5A9To66FNcM",
        "colab": {
          "base_uri": "https://localhost:8080/",
          "height": 289
        },
        "outputId": "7b87ef6b-7aac-43eb-ab70-341d6be67c4a"
      },
      "source": [
        "Set4 = pd.read_excel('sheet4.xlsx') #clothes\n",
        "Set4['result'] = 'clothes'\n",
        "Set4.head()"
      ],
      "execution_count": 18,
      "outputs": [
        {
          "output_type": "execute_result",
          "data": {
            "text/html": [
              "<div>\n",
              "<style scoped>\n",
              "    .dataframe tbody tr th:only-of-type {\n",
              "        vertical-align: middle;\n",
              "    }\n",
              "\n",
              "    .dataframe tbody tr th {\n",
              "        vertical-align: top;\n",
              "    }\n",
              "\n",
              "    .dataframe thead th {\n",
              "        text-align: right;\n",
              "    }\n",
              "</style>\n",
              "<table border=\"1\" class=\"dataframe\">\n",
              "  <thead>\n",
              "    <tr style=\"text-align: right;\">\n",
              "      <th></th>\n",
              "      <th>name</th>\n",
              "      <th>url</th>\n",
              "      <th>rating</th>\n",
              "      <th>price</th>\n",
              "      <th>number_rating</th>\n",
              "      <th>image_url</th>\n",
              "      <th>result</th>\n",
              "    </tr>\n",
              "  </thead>\n",
              "  <tbody>\n",
              "    <tr>\n",
              "      <th>0</th>\n",
              "      <td>Crocs Unisex-Adult Men's and Women's Classic Clog</td>\n",
              "      <td>https://www.amazon.com/Crocs-Unisex-Classic-Cl...</td>\n",
              "      <td>4.8 out of 5 stars</td>\n",
              "      <td>99.00</td>\n",
              "      <td>240166</td>\n",
              "      <td>https://images-na.ssl-images-amazon.com/images...</td>\n",
              "      <td>clothes</td>\n",
              "    </tr>\n",
              "    <tr>\n",
              "      <th>1</th>\n",
              "      <td>Amoretu Women Summer Tunic Dress V Neck Casual...</td>\n",
              "      <td>https://www.amazon.com/Amoretu-Womens-Loose-Pl...</td>\n",
              "      <td>3.9 out of 5 stars</td>\n",
              "      <td>29.98</td>\n",
              "      <td>35635</td>\n",
              "      <td>https://images-na.ssl-images-amazon.com/images...</td>\n",
              "      <td>clothes</td>\n",
              "    </tr>\n",
              "    <tr>\n",
              "      <th>2</th>\n",
              "      <td>Hanes Men's EcoSmart Sweatshirt</td>\n",
              "      <td>https://www.amazon.com/Hanes-EcoSmart-Fleece-S...</td>\n",
              "      <td>4.6 out of 5 stars</td>\n",
              "      <td>30.17</td>\n",
              "      <td>103045</td>\n",
              "      <td>https://images-na.ssl-images-amazon.com/images...</td>\n",
              "      <td>clothes</td>\n",
              "    </tr>\n",
              "    <tr>\n",
              "      <th>3</th>\n",
              "      <td>Gildan Men's Crew T-Shirts, Multipack</td>\n",
              "      <td>https://www.amazon.com/Gildan-Mens-T-Shirt-Ass...</td>\n",
              "      <td>4.6 out of 5 stars</td>\n",
              "      <td>52.00</td>\n",
              "      <td>159684</td>\n",
              "      <td>https://images-na.ssl-images-amazon.com/images...</td>\n",
              "      <td>clothes</td>\n",
              "    </tr>\n",
              "    <tr>\n",
              "      <th>4</th>\n",
              "      <td>Fruit of the Loom Men's Coolzone Boxer Briefs</td>\n",
              "      <td>https://www.amazon.com/Fruit-Loom-Coolzone-Bri...</td>\n",
              "      <td>4.7 out of 5 stars</td>\n",
              "      <td>425.00</td>\n",
              "      <td>110172</td>\n",
              "      <td>https://images-na.ssl-images-amazon.com/images...</td>\n",
              "      <td>clothes</td>\n",
              "    </tr>\n",
              "  </tbody>\n",
              "</table>\n",
              "</div>"
            ],
            "text/plain": [
              "                                                name  ...   result\n",
              "0  Crocs Unisex-Adult Men's and Women's Classic Clog  ...  clothes\n",
              "1  Amoretu Women Summer Tunic Dress V Neck Casual...  ...  clothes\n",
              "2                    Hanes Men's EcoSmart Sweatshirt  ...  clothes\n",
              "3              Gildan Men's Crew T-Shirts, Multipack  ...  clothes\n",
              "4      Fruit of the Loom Men's Coolzone Boxer Briefs  ...  clothes\n",
              "\n",
              "[5 rows x 7 columns]"
            ]
          },
          "metadata": {},
          "execution_count": 18
        }
      ]
    },
    {
      "cell_type": "code",
      "metadata": {
        "id": "1-69PzPzFSvS",
        "colab": {
          "base_uri": "https://localhost:8080/",
          "height": 289
        },
        "outputId": "232d1cee-30d3-487c-9935-a25708059a45"
      },
      "source": [
        "Set5 = pd.read_excel('sheet5.xlsx') #legos\n",
        "Set5['result'] = 'legos'\n",
        "Set5.head()"
      ],
      "execution_count": 19,
      "outputs": [
        {
          "output_type": "execute_result",
          "data": {
            "text/html": [
              "<div>\n",
              "<style scoped>\n",
              "    .dataframe tbody tr th:only-of-type {\n",
              "        vertical-align: middle;\n",
              "    }\n",
              "\n",
              "    .dataframe tbody tr th {\n",
              "        vertical-align: top;\n",
              "    }\n",
              "\n",
              "    .dataframe thead th {\n",
              "        text-align: right;\n",
              "    }\n",
              "</style>\n",
              "<table border=\"1\" class=\"dataframe\">\n",
              "  <thead>\n",
              "    <tr style=\"text-align: right;\">\n",
              "      <th></th>\n",
              "      <th>name</th>\n",
              "      <th>url</th>\n",
              "      <th>rating</th>\n",
              "      <th>price</th>\n",
              "      <th>rating_number</th>\n",
              "      <th>image_url</th>\n",
              "      <th>result</th>\n",
              "    </tr>\n",
              "  </thead>\n",
              "  <tbody>\n",
              "    <tr>\n",
              "      <th>0</th>\n",
              "      <td>LEGO Marvel Infinity Gauntlet 76191 Collectibl...</td>\n",
              "      <td>https://www.amazon.com/LEGO-Infinity-Gauntlet-...</td>\n",
              "      <td>4.9 out of 5 stars</td>\n",
              "      <td>69.95</td>\n",
              "      <td>612</td>\n",
              "      <td>https://images-na.ssl-images-amazon.com/images...</td>\n",
              "      <td>legos</td>\n",
              "    </tr>\n",
              "    <tr>\n",
              "      <th>1</th>\n",
              "      <td>LEGO Super Mario Adventures with Luigi Starter...</td>\n",
              "      <td>https://www.amazon.com/LEGO-Adventures-Buildin...</td>\n",
              "      <td>4.8 out of 5 stars</td>\n",
              "      <td>59.95</td>\n",
              "      <td>861</td>\n",
              "      <td>https://images-na.ssl-images-amazon.com/images...</td>\n",
              "      <td>legos</td>\n",
              "    </tr>\n",
              "    <tr>\n",
              "      <th>2</th>\n",
              "      <td>LEGO Friends Forest House 41679 Building Kit; ...</td>\n",
              "      <td>https://www.amazon.com/LEGO-Friends-Forest-Bui...</td>\n",
              "      <td>4.8 out of 5 stars</td>\n",
              "      <td>29.97</td>\n",
              "      <td>85</td>\n",
              "      <td>https://images-na.ssl-images-amazon.com/images...</td>\n",
              "      <td>legos</td>\n",
              "    </tr>\n",
              "    <tr>\n",
              "      <th>3</th>\n",
              "      <td>LEGO Speed Champions Chevrolet Corvette C8.R R...</td>\n",
              "      <td>https://www.amazon.com/LEGO-Champions-Chevrole...</td>\n",
              "      <td>4.8 out of 5 stars</td>\n",
              "      <td>29.95</td>\n",
              "      <td>141</td>\n",
              "      <td>https://images-na.ssl-images-amazon.com/images...</td>\n",
              "      <td>legos</td>\n",
              "    </tr>\n",
              "    <tr>\n",
              "      <th>4</th>\n",
              "      <td>LEGO Disney Ariel, Belle, Cinderella and Tiana...</td>\n",
              "      <td>https://www.amazon.com/LEGO-Cinderella-Storybo...</td>\n",
              "      <td>4.6 out of 5 stars</td>\n",
              "      <td>24.97</td>\n",
              "      <td>59</td>\n",
              "      <td>https://images-na.ssl-images-amazon.com/images...</td>\n",
              "      <td>legos</td>\n",
              "    </tr>\n",
              "  </tbody>\n",
              "</table>\n",
              "</div>"
            ],
            "text/plain": [
              "                                                name  ... result\n",
              "0  LEGO Marvel Infinity Gauntlet 76191 Collectibl...  ...  legos\n",
              "1  LEGO Super Mario Adventures with Luigi Starter...  ...  legos\n",
              "2  LEGO Friends Forest House 41679 Building Kit; ...  ...  legos\n",
              "3  LEGO Speed Champions Chevrolet Corvette C8.R R...  ...  legos\n",
              "4  LEGO Disney Ariel, Belle, Cinderella and Tiana...  ...  legos\n",
              "\n",
              "[5 rows x 7 columns]"
            ]
          },
          "metadata": {},
          "execution_count": 19
        }
      ]
    },
    {
      "cell_type": "code",
      "metadata": {
        "id": "w2BPCyg6FZCG",
        "colab": {
          "base_uri": "https://localhost:8080/"
        },
        "outputId": "7088fdbe-1b91-4e8b-b9ca-7ec3e89601c0"
      },
      "source": [
        "Set6 = pd.read_excel('sheet6.xlsx') #tech\n",
        "Set6['result'] = 'tech'\n",
        "Set6.shape\n"
      ],
      "execution_count": 20,
      "outputs": [
        {
          "output_type": "execute_result",
          "data": {
            "text/plain": [
              "(50, 7)"
            ]
          },
          "metadata": {},
          "execution_count": 20
        }
      ]
    },
    {
      "cell_type": "code",
      "metadata": {
        "id": "oKKJEI5YFaZj"
      },
      "source": [
        "testingset = pd.concat([Set1, Set2, Set3, Set4, Set5])"
      ],
      "execution_count": 21,
      "outputs": []
    },
    {
      "cell_type": "code",
      "metadata": {
        "id": "5VDr1_D7GycK"
      },
      "source": [
        "from sklearn.model_selection import train_test_split\n",
        "\n",
        "train, test = train_test_split(testingset, test_size=0.33) #traning and test split 1"
      ],
      "execution_count": 22,
      "outputs": []
    },
    {
      "cell_type": "code",
      "metadata": {
        "id": "g5ntO4cr_WFc"
      },
      "source": [
        "train2, test2 = train_test_split(testingset, test_size=0.33) #training and test split 2"
      ],
      "execution_count": 23,
      "outputs": []
    },
    {
      "cell_type": "code",
      "metadata": {
        "id": "scPNnrW0HOhx",
        "colab": {
          "base_uri": "https://localhost:8080/",
          "height": 289
        },
        "outputId": "7bb15009-f93a-4127-f98f-ec057eafd826"
      },
      "source": [
        "trainingset = train[train['name'].notna()] #move out null values\n",
        "trainingset.head()"
      ],
      "execution_count": 24,
      "outputs": [
        {
          "output_type": "execute_result",
          "data": {
            "text/html": [
              "<div>\n",
              "<style scoped>\n",
              "    .dataframe tbody tr th:only-of-type {\n",
              "        vertical-align: middle;\n",
              "    }\n",
              "\n",
              "    .dataframe tbody tr th {\n",
              "        vertical-align: top;\n",
              "    }\n",
              "\n",
              "    .dataframe thead th {\n",
              "        text-align: right;\n",
              "    }\n",
              "</style>\n",
              "<table border=\"1\" class=\"dataframe\">\n",
              "  <thead>\n",
              "    <tr style=\"text-align: right;\">\n",
              "      <th></th>\n",
              "      <th>name</th>\n",
              "      <th>url</th>\n",
              "      <th>rating</th>\n",
              "      <th>price</th>\n",
              "      <th>number_rating</th>\n",
              "      <th>image_url</th>\n",
              "      <th>result</th>\n",
              "      <th>rating_number</th>\n",
              "    </tr>\n",
              "  </thead>\n",
              "  <tbody>\n",
              "    <tr>\n",
              "      <th>18</th>\n",
              "      <td>LEGO Star Wars The Bad Batch Attack Shuttle 75...</td>\n",
              "      <td>https://www.amazon.com/LEGO-Shuttle-75314-Awes...</td>\n",
              "      <td>4.7 out of 5 stars</td>\n",
              "      <td>99.95</td>\n",
              "      <td>NaN</td>\n",
              "      <td>https://images-na.ssl-images-amazon.com/images...</td>\n",
              "      <td>legos</td>\n",
              "      <td>175.0</td>\n",
              "    </tr>\n",
              "    <tr>\n",
              "      <th>13</th>\n",
              "      <td>Giantex Portable Mini Compact Twin Tub Washing...</td>\n",
              "      <td>https://www.amazon.com/Giantex-Portable-Compac...</td>\n",
              "      <td>4.3 out of 5 stars</td>\n",
              "      <td>189.99</td>\n",
              "      <td>10156.0</td>\n",
              "      <td>https://images-na.ssl-images-amazon.com/images...</td>\n",
              "      <td>kitchen</td>\n",
              "      <td>NaN</td>\n",
              "    </tr>\n",
              "    <tr>\n",
              "      <th>14</th>\n",
              "      <td>LEGO Marvel Iron Man: Iron Monger Mayhem 76190...</td>\n",
              "      <td>https://www.amazon.com/LEGO-Marvel-Iron-Man-Co...</td>\n",
              "      <td>4.7 out of 5 stars</td>\n",
              "      <td>39.97</td>\n",
              "      <td>NaN</td>\n",
              "      <td>https://images-na.ssl-images-amazon.com/images...</td>\n",
              "      <td>legos</td>\n",
              "      <td>87.0</td>\n",
              "    </tr>\n",
              "    <tr>\n",
              "      <th>8</th>\n",
              "      <td>LEGO Speed Champions McLaren Elva 76902 Buildi...</td>\n",
              "      <td>https://www.amazon.com/LEGO-Champions-McLaren-...</td>\n",
              "      <td>4.9 out of 5 stars</td>\n",
              "      <td>19.95</td>\n",
              "      <td>NaN</td>\n",
              "      <td>https://images-na.ssl-images-amazon.com/images...</td>\n",
              "      <td>legos</td>\n",
              "      <td>43.0</td>\n",
              "    </tr>\n",
              "    <tr>\n",
              "      <th>22</th>\n",
              "      <td>BELONGSCI Women's Dress Sweet &amp; Cute V-Neck Be...</td>\n",
              "      <td>https://www.amazon.com/BELONGSCI-Womens-Dress-...</td>\n",
              "      <td>3.8 out of 5 stars</td>\n",
              "      <td>35.99</td>\n",
              "      <td>31301.0</td>\n",
              "      <td>https://images-na.ssl-images-amazon.com/images...</td>\n",
              "      <td>clothes</td>\n",
              "      <td>NaN</td>\n",
              "    </tr>\n",
              "  </tbody>\n",
              "</table>\n",
              "</div>"
            ],
            "text/plain": [
              "                                                 name  ... rating_number\n",
              "18  LEGO Star Wars The Bad Batch Attack Shuttle 75...  ...         175.0\n",
              "13  Giantex Portable Mini Compact Twin Tub Washing...  ...           NaN\n",
              "14  LEGO Marvel Iron Man: Iron Monger Mayhem 76190...  ...          87.0\n",
              "8   LEGO Speed Champions McLaren Elva 76902 Buildi...  ...          43.0\n",
              "22  BELONGSCI Women's Dress Sweet & Cute V-Neck Be...  ...           NaN\n",
              "\n",
              "[5 rows x 8 columns]"
            ]
          },
          "metadata": {},
          "execution_count": 24
        }
      ]
    },
    {
      "cell_type": "code",
      "metadata": {
        "id": "ClJeyjyzHE_f",
        "colab": {
          "base_uri": "https://localhost:8080/"
        },
        "outputId": "802b893b-3309-46a5-faf5-9053e9ef3de9"
      },
      "source": [
        "vectorizer = TfidfVectorizer(stop_words='english')\n",
        "X1 = vectorizer.fit_transform(trainingset['name'])\n",
        "X1"
      ],
      "execution_count": 25,
      "outputs": [
        {
          "output_type": "execute_result",
          "data": {
            "text/plain": [
              "<167x853 sparse matrix of type '<class 'numpy.float64'>'\n",
              "\twith 1552 stored elements in Compressed Sparse Row format>"
            ]
          },
          "metadata": {},
          "execution_count": 25
        }
      ]
    },
    {
      "cell_type": "code",
      "metadata": {
        "id": "xJ91jLgNIGLU",
        "colab": {
          "base_uri": "https://localhost:8080/",
          "height": 265
        },
        "outputId": "ceee8495-5dae-469a-9a76-a6990ee3470c"
      },
      "source": [
        "X=X1\n",
        "\n",
        "kmeans = KMeans(n_clusters = 5, init = 'k-means++')\n",
        "y_kmeans = kmeans.fit_predict(X)\n",
        "plt.plot(y_kmeans, \".\")\n",
        "plt.show()"
      ],
      "execution_count": 26,
      "outputs": [
        {
          "output_type": "display_data",
          "data": {
            "image/png": "[encoded data removed]",
            "text/plain": [
              "<Figure size 432x288 with 1 Axes>"
            ]
          },
          "metadata": {
            "needs_background": "light"
          }
        }
      ]
    },
    {
      "cell_type": "code",
      "metadata": {
        "id": "uDfsXsTOIfXP"
      },
      "source": [
        "def print_cluster(i):\n",
        "    print(\"Cluster %d:\" % i),\n",
        "    for ind in order_centroids[i, :10]:\n",
        "        print(' %s' % terms[ind]),\n",
        "    print"
      ],
      "execution_count": 27,
      "outputs": []
    },
    {
      "cell_type": "code",
      "metadata": {
        "id": "7eEeEfH1Ihwu",
        "colab": {
          "base_uri": "https://localhost:8080/"
        },
        "outputId": "76b22418-459d-447d-b366-c2ec7b7b639d"
      },
      "source": [
        "true_k = 5\n",
        "\n",
        "model = KMeans(n_clusters=true_k, init='k-means++', max_iter=100, n_init=1)\n",
        "model.fit(X1)\n",
        "\n",
        "print(\"Top terms per cluster:\")\n",
        "order_centroids = model.cluster_centers_.argsort()[:, ::-1]\n",
        "terms = vectorizer.get_feature_names()\n",
        "for i in range(true_k):\n",
        "    print_cluster(i)\n",
        "\n",
        "#if clusters are 5, the tech clusters combine into one, thats good. We can intuitively tell its working.\n",
        "#However, we still have to prove it numerically."
      ],
      "execution_count": 28,
      "outputs": [
        {
          "output_type": "stream",
          "name": "stdout",
          "text": [
            "Top terms per cluster:\n",
            "Cluster 0:\n",
            " men\n",
            " women\n",
            " portable\n",
            " shirt\n",
            " compact\n",
            " hanes\n",
            " pack\n",
            " amazon\n",
            " ring\n",
            " cotton\n",
            "Cluster 1:\n",
            " alexa\n",
            " tv\n",
            " gen\n",
            " smart\n",
            " echo\n",
            " stick\n",
            " voice\n",
            " remote\n",
            " display\n",
            " hd\n",
            "Cluster 2:\n",
            " lego\n",
            " building\n",
            " kit\n",
            " toy\n",
            " friends\n",
            " mario\n",
            " collectible\n",
            " super\n",
            " wars\n",
            " star\n",
            "Cluster 3:\n",
            " queen\n",
            " set\n",
            " sheets\n",
            " bed\n",
            " size\n",
            " sheet\n",
            " hotel\n",
            " grey\n",
            " bedsure\n",
            " luxury\n",
            "Cluster 4:\n",
            " ice\n",
            " maker\n",
            " countertop\n",
            " machine\n",
            " cleaning\n",
            " self\n",
            " 24h\n",
            " portable\n",
            " function\n",
            " 26lbs\n"
          ]
        }
      ]
    },
    {
      "cell_type": "code",
      "metadata": {
        "colab": {
          "base_uri": "https://localhost:8080/",
          "height": 285
        },
        "id": "i4MpF-wOx7ZI",
        "outputId": "f3d21f18-a76c-446b-8808-25c5b3e3ac05"
      },
      "source": [
        "SSE = []\n",
        "for cluster in range(1,20):\n",
        "    kmeans = KMeans(n_clusters=cluster, init='k-means++', max_iter=100, n_init=1)\n",
        "    kmeans.fit(X1)\n",
        "    SSE.append(kmeans.inertia_)\n",
        "\n",
        "x = range(1,20)\n",
        "plt.plot(x, SSE, marker='o')"
      ],
      "execution_count": 29,
      "outputs": [
        {
          "output_type": "execute_result",
          "data": {
            "text/plain": [
              "[<matplotlib.lines.Line2D at 0x7f4c289aa2d0>]"
            ]
          },
          "metadata": {},
          "execution_count": 29
        },
        {
          "output_type": "display_data",
          "data": {
            "image/png": "[encoded data removed]",
            "text/plain": [
              "<Figure size 432x288 with 1 Axes>"
            ]
          },
          "metadata": {
            "needs_background": "light"
          }
        }
      ]
    },
    {
      "cell_type": "code",
      "metadata": {
        "colab": {
          "base_uri": "https://localhost:8080/"
        },
        "id": "Na2jgt49hZwv",
        "outputId": "70b8fde7-d81f-41db-d7ea-b8db0b2e8a11"
      },
      "source": [
        "for i in range(true_k):\n",
        "    print_cluster(i)"
      ],
      "execution_count": 30,
      "outputs": [
        {
          "output_type": "stream",
          "name": "stdout",
          "text": [
            "Cluster 0:\n",
            " men\n",
            " women\n",
            " portable\n",
            " shirt\n",
            " compact\n",
            " hanes\n",
            " pack\n",
            " amazon\n",
            " ring\n",
            " cotton\n",
            "Cluster 1:\n",
            " alexa\n",
            " tv\n",
            " gen\n",
            " smart\n",
            " echo\n",
            " stick\n",
            " voice\n",
            " remote\n",
            " display\n",
            " hd\n",
            "Cluster 2:\n",
            " lego\n",
            " building\n",
            " kit\n",
            " toy\n",
            " friends\n",
            " mario\n",
            " collectible\n",
            " super\n",
            " wars\n",
            " star\n",
            "Cluster 3:\n",
            " queen\n",
            " set\n",
            " sheets\n",
            " bed\n",
            " size\n",
            " sheet\n",
            " hotel\n",
            " grey\n",
            " bedsure\n",
            " luxury\n",
            "Cluster 4:\n",
            " ice\n",
            " maker\n",
            " countertop\n",
            " machine\n",
            " cleaning\n",
            " self\n",
            " 24h\n",
            " portable\n",
            " function\n",
            " 26lbs\n"
          ]
        }
      ]
    },
    {
      "cell_type": "code",
      "metadata": {
        "id": "5exWhpt6-lcw",
        "colab": {
          "base_uri": "https://localhost:8080/",
          "height": 589
        },
        "outputId": "281a77e1-c248-46ea-da6c-448db2ae8337"
      },
      "source": [
        "testset = test[test['name'].notna()]\n",
        "testset\n"
      ],
      "execution_count": 31,
      "outputs": [
        {
          "output_type": "execute_result",
          "data": {
            "text/html": [
              "<div>\n",
              "<style scoped>\n",
              "    .dataframe tbody tr th:only-of-type {\n",
              "        vertical-align: middle;\n",
              "    }\n",
              "\n",
              "    .dataframe tbody tr th {\n",
              "        vertical-align: top;\n",
              "    }\n",
              "\n",
              "    .dataframe thead th {\n",
              "        text-align: right;\n",
              "    }\n",
              "</style>\n",
              "<table border=\"1\" class=\"dataframe\">\n",
              "  <thead>\n",
              "    <tr style=\"text-align: right;\">\n",
              "      <th></th>\n",
              "      <th>name</th>\n",
              "      <th>url</th>\n",
              "      <th>rating</th>\n",
              "      <th>price</th>\n",
              "      <th>number_rating</th>\n",
              "      <th>image_url</th>\n",
              "      <th>result</th>\n",
              "      <th>rating_number</th>\n",
              "    </tr>\n",
              "  </thead>\n",
              "  <tbody>\n",
              "    <tr>\n",
              "      <th>28</th>\n",
              "      <td>Ring Chime</td>\n",
              "      <td>https://www.amazon.com/Ring-Chime/dp/B07WML1QM...</td>\n",
              "      <td>4.6 out of 5 stars</td>\n",
              "      <td>29.99</td>\n",
              "      <td>45622.0</td>\n",
              "      <td>https://images-na.ssl-images-amazon.com/images...</td>\n",
              "      <td>tech</td>\n",
              "      <td>NaN</td>\n",
              "    </tr>\n",
              "    <tr>\n",
              "      <th>23</th>\n",
              "      <td>All-new Fire HD 10 tablet, 10.1\", 1080p Full H...</td>\n",
              "      <td>https://www.amazon.com/Fire-HD-10-tablet/dp/B0...</td>\n",
              "      <td>4.6 out of 5 stars</td>\n",
              "      <td>149.99</td>\n",
              "      <td>25645.0</td>\n",
              "      <td>https://images-na.ssl-images-amazon.com/images...</td>\n",
              "      <td>tech</td>\n",
              "      <td>NaN</td>\n",
              "    </tr>\n",
              "    <tr>\n",
              "      <th>29</th>\n",
              "      <td>LEGO NINJAGO Legacy Fire Dragon Attack 71753 N...</td>\n",
              "      <td>https://www.amazon.com/LEGO-NINJAGO-Playset-Bu...</td>\n",
              "      <td>5.0 out of 5 stars</td>\n",
              "      <td>49.95</td>\n",
              "      <td>NaN</td>\n",
              "      <td>https://images-na.ssl-images-amazon.com/images...</td>\n",
              "      <td>legos</td>\n",
              "      <td>54.0</td>\n",
              "    </tr>\n",
              "    <tr>\n",
              "      <th>31</th>\n",
              "      <td>SeaKlear AquaPill AP71 WinterPill Swimming Poo...</td>\n",
              "      <td>https://www.amazon.com/SeaKlear-AquaPill-AP71-...</td>\n",
              "      <td>4.4 out of 5 stars</td>\n",
              "      <td>15.49</td>\n",
              "      <td>6740.0</td>\n",
              "      <td>https://images-na.ssl-images-amazon.com/images...</td>\n",
              "      <td>bed</td>\n",
              "      <td>NaN</td>\n",
              "    </tr>\n",
              "    <tr>\n",
              "      <th>49</th>\n",
              "      <td>Germ Guardian FLT4825 HEPA GENUINE Air Purifie...</td>\n",
              "      <td>https://www.amazon.com/GermGuardian-FLT4825-Re...</td>\n",
              "      <td>4.8 out of 5 stars</td>\n",
              "      <td>24.99</td>\n",
              "      <td>27086.0</td>\n",
              "      <td>https://images-na.ssl-images-amazon.com/images...</td>\n",
              "      <td>bed</td>\n",
              "      <td>NaN</td>\n",
              "    </tr>\n",
              "    <tr>\n",
              "      <th>...</th>\n",
              "      <td>...</td>\n",
              "      <td>...</td>\n",
              "      <td>...</td>\n",
              "      <td>...</td>\n",
              "      <td>...</td>\n",
              "      <td>...</td>\n",
              "      <td>...</td>\n",
              "      <td>...</td>\n",
              "    </tr>\n",
              "    <tr>\n",
              "      <th>27</th>\n",
              "      <td>COMFEEâ€™ 1.6 Cu.ft Portable Washing Machine, ...</td>\n",
              "      <td>https://www.amazon.com/COMFEE-Portable-Capacit...</td>\n",
              "      <td>4.5 out of 5 stars</td>\n",
              "      <td>301.65</td>\n",
              "      <td>1947.0</td>\n",
              "      <td>https://images-na.ssl-images-amazon.com/images...</td>\n",
              "      <td>kitchen</td>\n",
              "      <td>NaN</td>\n",
              "    </tr>\n",
              "    <tr>\n",
              "      <th>9</th>\n",
              "      <td>Introducing Fire TV Stick 4K Max streaming dev...</td>\n",
              "      <td>https://www.amazon.com/fire-tv-stick-4k-max-wi...</td>\n",
              "      <td>NaN</td>\n",
              "      <td>54.99</td>\n",
              "      <td>NaN</td>\n",
              "      <td>https://images-na.ssl-images-amazon.com/images...</td>\n",
              "      <td>tech</td>\n",
              "      <td>NaN</td>\n",
              "    </tr>\n",
              "    <tr>\n",
              "      <th>37</th>\n",
              "      <td>Simple Joys by Carter's Baby 5-Pack Long-Sleev...</td>\n",
              "      <td>https://www.amazon.com/Simple-Joys-Carters-Lon...</td>\n",
              "      <td>4.8 out of 5 stars</td>\n",
              "      <td>24.94</td>\n",
              "      <td>41948.0</td>\n",
              "      <td>https://images-na.ssl-images-amazon.com/images...</td>\n",
              "      <td>clothes</td>\n",
              "      <td>NaN</td>\n",
              "    </tr>\n",
              "    <tr>\n",
              "      <th>37</th>\n",
              "      <td>COMFEE' Portable Washing Machine, 0.9 cu.ft Co...</td>\n",
              "      <td>https://www.amazon.com/COMFEE-CLV09N1AMG-Porta...</td>\n",
              "      <td>4.4 out of 5 stars</td>\n",
              "      <td>249.00</td>\n",
              "      <td>1571.0</td>\n",
              "      <td>https://images-na.ssl-images-amazon.com/images...</td>\n",
              "      <td>kitchen</td>\n",
              "      <td>NaN</td>\n",
              "    </tr>\n",
              "    <tr>\n",
              "      <th>6</th>\n",
              "      <td>Gildan Men's Fleece Hooded Sweatshirt, Style G...</td>\n",
              "      <td>https://www.amazon.com/Gildan-Fleece-Hooded-Sw...</td>\n",
              "      <td>4.6 out of 5 stars</td>\n",
              "      <td>38.99</td>\n",
              "      <td>68699.0</td>\n",
              "      <td>https://images-na.ssl-images-amazon.com/images...</td>\n",
              "      <td>clothes</td>\n",
              "      <td>NaN</td>\n",
              "    </tr>\n",
              "  </tbody>\n",
              "</table>\n",
              "<p>83 rows × 8 columns</p>\n",
              "</div>"
            ],
            "text/plain": [
              "                                                 name  ... rating_number\n",
              "28                                         Ring Chime  ...           NaN\n",
              "23  All-new Fire HD 10 tablet, 10.1\", 1080p Full H...  ...           NaN\n",
              "29  LEGO NINJAGO Legacy Fire Dragon Attack 71753 N...  ...          54.0\n",
              "31  SeaKlear AquaPill AP71 WinterPill Swimming Poo...  ...           NaN\n",
              "49  Germ Guardian FLT4825 HEPA GENUINE Air Purifie...  ...           NaN\n",
              "..                                                ...  ...           ...\n",
              "27  COMFEEâ€™ 1.6 Cu.ft Portable Washing Machine, ...  ...           NaN\n",
              "9   Introducing Fire TV Stick 4K Max streaming dev...  ...           NaN\n",
              "37  Simple Joys by Carter's Baby 5-Pack Long-Sleev...  ...           NaN\n",
              "37  COMFEE' Portable Washing Machine, 0.9 cu.ft Co...  ...           NaN\n",
              "6   Gildan Men's Fleece Hooded Sweatshirt, Style G...  ...           NaN\n",
              "\n",
              "[83 rows x 8 columns]"
            ]
          },
          "metadata": {},
          "execution_count": 31
        }
      ]
    },
    {
      "cell_type": "code",
      "metadata": {
        "id": "xM0P5ktnaa2C"
      },
      "source": [
        "predictions = []\n",
        "for i in testset['name']:\n",
        "  predicted = show_recommendations2(i)\n",
        "  predictions.append(predicted)\n"
      ],
      "execution_count": 34,
      "outputs": []
    },
    {
      "cell_type": "code",
      "metadata": {
        "id": "YUfFYuNnwKB5"
      },
      "source": [
        "# count1 = 0\n",
        "# for i in predictions:\n",
        "  # if i == 3:\n",
        "    # predictions[count1] = 1\n",
        "    \n",
        "  # count1 = count1 + 1\n",
        "\n"
      ],
      "execution_count": 33,
      "outputs": []
    },
    {
      "cell_type": "code",
      "metadata": {
        "id": "RgXswBnXc2f7"
      },
      "source": [
        "testset['predictions'] = list(predictions)\n"
      ],
      "execution_count": 35,
      "outputs": []
    },
    {
      "cell_type": "code",
      "metadata": {
        "colab": {
          "base_uri": "https://localhost:8080/",
          "height": 691
        },
        "id": "fQQGf93hgksd",
        "outputId": "efd90fca-09b7-4a2a-cc06-57fbb1cdeee4"
      },
      "source": [
        "testset"
      ],
      "execution_count": 36,
      "outputs": [
        {
          "output_type": "execute_result",
          "data": {
            "text/html": [
              "<div>\n",
              "<style scoped>\n",
              "    .dataframe tbody tr th:only-of-type {\n",
              "        vertical-align: middle;\n",
              "    }\n",
              "\n",
              "    .dataframe tbody tr th {\n",
              "        vertical-align: top;\n",
              "    }\n",
              "\n",
              "    .dataframe thead th {\n",
              "        text-align: right;\n",
              "    }\n",
              "</style>\n",
              "<table border=\"1\" class=\"dataframe\">\n",
              "  <thead>\n",
              "    <tr style=\"text-align: right;\">\n",
              "      <th></th>\n",
              "      <th>name</th>\n",
              "      <th>url</th>\n",
              "      <th>rating</th>\n",
              "      <th>price</th>\n",
              "      <th>number_rating</th>\n",
              "      <th>image_url</th>\n",
              "      <th>result</th>\n",
              "      <th>rating_number</th>\n",
              "      <th>predictions</th>\n",
              "    </tr>\n",
              "  </thead>\n",
              "  <tbody>\n",
              "    <tr>\n",
              "      <th>28</th>\n",
              "      <td>Ring Chime</td>\n",
              "      <td>https://www.amazon.com/Ring-Chime/dp/B07WML1QM...</td>\n",
              "      <td>4.6 out of 5 stars</td>\n",
              "      <td>29.99</td>\n",
              "      <td>45622.0</td>\n",
              "      <td>https://images-na.ssl-images-amazon.com/images...</td>\n",
              "      <td>tech</td>\n",
              "      <td>NaN</td>\n",
              "      <td>0</td>\n",
              "    </tr>\n",
              "    <tr>\n",
              "      <th>23</th>\n",
              "      <td>All-new Fire HD 10 tablet, 10.1\", 1080p Full H...</td>\n",
              "      <td>https://www.amazon.com/Fire-HD-10-tablet/dp/B0...</td>\n",
              "      <td>4.6 out of 5 stars</td>\n",
              "      <td>149.99</td>\n",
              "      <td>25645.0</td>\n",
              "      <td>https://images-na.ssl-images-amazon.com/images...</td>\n",
              "      <td>tech</td>\n",
              "      <td>NaN</td>\n",
              "      <td>0</td>\n",
              "    </tr>\n",
              "    <tr>\n",
              "      <th>29</th>\n",
              "      <td>LEGO NINJAGO Legacy Fire Dragon Attack 71753 N...</td>\n",
              "      <td>https://www.amazon.com/LEGO-NINJAGO-Playset-Bu...</td>\n",
              "      <td>5.0 out of 5 stars</td>\n",
              "      <td>49.95</td>\n",
              "      <td>NaN</td>\n",
              "      <td>https://images-na.ssl-images-amazon.com/images...</td>\n",
              "      <td>legos</td>\n",
              "      <td>54.0</td>\n",
              "      <td>2</td>\n",
              "    </tr>\n",
              "    <tr>\n",
              "      <th>31</th>\n",
              "      <td>SeaKlear AquaPill AP71 WinterPill Swimming Poo...</td>\n",
              "      <td>https://www.amazon.com/SeaKlear-AquaPill-AP71-...</td>\n",
              "      <td>4.4 out of 5 stars</td>\n",
              "      <td>15.49</td>\n",
              "      <td>6740.0</td>\n",
              "      <td>https://images-na.ssl-images-amazon.com/images...</td>\n",
              "      <td>bed</td>\n",
              "      <td>NaN</td>\n",
              "      <td>0</td>\n",
              "    </tr>\n",
              "    <tr>\n",
              "      <th>49</th>\n",
              "      <td>Germ Guardian FLT4825 HEPA GENUINE Air Purifie...</td>\n",
              "      <td>https://www.amazon.com/GermGuardian-FLT4825-Re...</td>\n",
              "      <td>4.8 out of 5 stars</td>\n",
              "      <td>24.99</td>\n",
              "      <td>27086.0</td>\n",
              "      <td>https://images-na.ssl-images-amazon.com/images...</td>\n",
              "      <td>bed</td>\n",
              "      <td>NaN</td>\n",
              "      <td>0</td>\n",
              "    </tr>\n",
              "    <tr>\n",
              "      <th>...</th>\n",
              "      <td>...</td>\n",
              "      <td>...</td>\n",
              "      <td>...</td>\n",
              "      <td>...</td>\n",
              "      <td>...</td>\n",
              "      <td>...</td>\n",
              "      <td>...</td>\n",
              "      <td>...</td>\n",
              "      <td>...</td>\n",
              "    </tr>\n",
              "    <tr>\n",
              "      <th>27</th>\n",
              "      <td>COMFEEâ€™ 1.6 Cu.ft Portable Washing Machine, ...</td>\n",
              "      <td>https://www.amazon.com/COMFEE-Portable-Capacit...</td>\n",
              "      <td>4.5 out of 5 stars</td>\n",
              "      <td>301.65</td>\n",
              "      <td>1947.0</td>\n",
              "      <td>https://images-na.ssl-images-amazon.com/images...</td>\n",
              "      <td>kitchen</td>\n",
              "      <td>NaN</td>\n",
              "      <td>0</td>\n",
              "    </tr>\n",
              "    <tr>\n",
              "      <th>9</th>\n",
              "      <td>Introducing Fire TV Stick 4K Max streaming dev...</td>\n",
              "      <td>https://www.amazon.com/fire-tv-stick-4k-max-wi...</td>\n",
              "      <td>NaN</td>\n",
              "      <td>54.99</td>\n",
              "      <td>NaN</td>\n",
              "      <td>https://images-na.ssl-images-amazon.com/images...</td>\n",
              "      <td>tech</td>\n",
              "      <td>NaN</td>\n",
              "      <td>1</td>\n",
              "    </tr>\n",
              "    <tr>\n",
              "      <th>37</th>\n",
              "      <td>Simple Joys by Carter's Baby 5-Pack Long-Sleev...</td>\n",
              "      <td>https://www.amazon.com/Simple-Joys-Carters-Lon...</td>\n",
              "      <td>4.8 out of 5 stars</td>\n",
              "      <td>24.94</td>\n",
              "      <td>41948.0</td>\n",
              "      <td>https://images-na.ssl-images-amazon.com/images...</td>\n",
              "      <td>clothes</td>\n",
              "      <td>NaN</td>\n",
              "      <td>0</td>\n",
              "    </tr>\n",
              "    <tr>\n",
              "      <th>37</th>\n",
              "      <td>COMFEE' Portable Washing Machine, 0.9 cu.ft Co...</td>\n",
              "      <td>https://www.amazon.com/COMFEE-CLV09N1AMG-Porta...</td>\n",
              "      <td>4.4 out of 5 stars</td>\n",
              "      <td>249.00</td>\n",
              "      <td>1571.0</td>\n",
              "      <td>https://images-na.ssl-images-amazon.com/images...</td>\n",
              "      <td>kitchen</td>\n",
              "      <td>NaN</td>\n",
              "      <td>0</td>\n",
              "    </tr>\n",
              "    <tr>\n",
              "      <th>6</th>\n",
              "      <td>Gildan Men's Fleece Hooded Sweatshirt, Style G...</td>\n",
              "      <td>https://www.amazon.com/Gildan-Fleece-Hooded-Sw...</td>\n",
              "      <td>4.6 out of 5 stars</td>\n",
              "      <td>38.99</td>\n",
              "      <td>68699.0</td>\n",
              "      <td>https://images-na.ssl-images-amazon.com/images...</td>\n",
              "      <td>clothes</td>\n",
              "      <td>NaN</td>\n",
              "      <td>0</td>\n",
              "    </tr>\n",
              "  </tbody>\n",
              "</table>\n",
              "<p>83 rows × 9 columns</p>\n",
              "</div>"
            ],
            "text/plain": [
              "                                                 name  ... predictions\n",
              "28                                         Ring Chime  ...           0\n",
              "23  All-new Fire HD 10 tablet, 10.1\", 1080p Full H...  ...           0\n",
              "29  LEGO NINJAGO Legacy Fire Dragon Attack 71753 N...  ...           2\n",
              "31  SeaKlear AquaPill AP71 WinterPill Swimming Poo...  ...           0\n",
              "49  Germ Guardian FLT4825 HEPA GENUINE Air Purifie...  ...           0\n",
              "..                                                ...  ...         ...\n",
              "27  COMFEEâ€™ 1.6 Cu.ft Portable Washing Machine, ...  ...           0\n",
              "9   Introducing Fire TV Stick 4K Max streaming dev...  ...           1\n",
              "37  Simple Joys by Carter's Baby 5-Pack Long-Sleev...  ...           0\n",
              "37  COMFEE' Portable Washing Machine, 0.9 cu.ft Co...  ...           0\n",
              "6   Gildan Men's Fleece Hooded Sweatshirt, Style G...  ...           0\n",
              "\n",
              "[83 rows x 9 columns]"
            ]
          },
          "metadata": {},
          "execution_count": 36
        }
      ]
    },
    {
      "cell_type": "code",
      "metadata": {
        "id": "a2l_2EKt_s3K"
      },
      "source": [
        "actual = []\n",
        "\n",
        "for i in testset['result']:\n",
        "  if i == \"tech\":\n",
        "    actual.append(1)\n",
        "  if i == 'legos':\n",
        "    actual.append(2)\n",
        "  if i == 'clothes':\n",
        "    actual.append(0)\n",
        "  if i == 'kitchen':\n",
        "    actual.append(4)\n",
        "  if i == 'bed':\n",
        "    actual.append(3)\n",
        "\n",
        "testset['actual'] = actual \n"
      ],
      "execution_count": 37,
      "outputs": []
    },
    {
      "cell_type": "code",
      "metadata": {
        "id": "se8fjn0UijLa",
        "colab": {
          "base_uri": "https://localhost:8080/",
          "height": 776
        },
        "outputId": "751b1189-5561-45ac-c775-39acf052a8e3"
      },
      "source": [
        "testset"
      ],
      "execution_count": 38,
      "outputs": [
        {
          "output_type": "execute_result",
          "data": {
            "text/html": [
              "<div>\n",
              "<style scoped>\n",
              "    .dataframe tbody tr th:only-of-type {\n",
              "        vertical-align: middle;\n",
              "    }\n",
              "\n",
              "    .dataframe tbody tr th {\n",
              "        vertical-align: top;\n",
              "    }\n",
              "\n",
              "    .dataframe thead th {\n",
              "        text-align: right;\n",
              "    }\n",
              "</style>\n",
              "<table border=\"1\" class=\"dataframe\">\n",
              "  <thead>\n",
              "    <tr style=\"text-align: right;\">\n",
              "      <th></th>\n",
              "      <th>name</th>\n",
              "      <th>url</th>\n",
              "      <th>rating</th>\n",
              "      <th>price</th>\n",
              "      <th>number_rating</th>\n",
              "      <th>image_url</th>\n",
              "      <th>result</th>\n",
              "      <th>rating_number</th>\n",
              "      <th>predictions</th>\n",
              "      <th>actual</th>\n",
              "    </tr>\n",
              "  </thead>\n",
              "  <tbody>\n",
              "    <tr>\n",
              "      <th>28</th>\n",
              "      <td>Ring Chime</td>\n",
              "      <td>https://www.amazon.com/Ring-Chime/dp/B07WML1QM...</td>\n",
              "      <td>4.6 out of 5 stars</td>\n",
              "      <td>29.99</td>\n",
              "      <td>45622.0</td>\n",
              "      <td>https://images-na.ssl-images-amazon.com/images...</td>\n",
              "      <td>tech</td>\n",
              "      <td>NaN</td>\n",
              "      <td>0</td>\n",
              "      <td>1</td>\n",
              "    </tr>\n",
              "    <tr>\n",
              "      <th>23</th>\n",
              "      <td>All-new Fire HD 10 tablet, 10.1\", 1080p Full H...</td>\n",
              "      <td>https://www.amazon.com/Fire-HD-10-tablet/dp/B0...</td>\n",
              "      <td>4.6 out of 5 stars</td>\n",
              "      <td>149.99</td>\n",
              "      <td>25645.0</td>\n",
              "      <td>https://images-na.ssl-images-amazon.com/images...</td>\n",
              "      <td>tech</td>\n",
              "      <td>NaN</td>\n",
              "      <td>0</td>\n",
              "      <td>1</td>\n",
              "    </tr>\n",
              "    <tr>\n",
              "      <th>29</th>\n",
              "      <td>LEGO NINJAGO Legacy Fire Dragon Attack 71753 N...</td>\n",
              "      <td>https://www.amazon.com/LEGO-NINJAGO-Playset-Bu...</td>\n",
              "      <td>5.0 out of 5 stars</td>\n",
              "      <td>49.95</td>\n",
              "      <td>NaN</td>\n",
              "      <td>https://images-na.ssl-images-amazon.com/images...</td>\n",
              "      <td>legos</td>\n",
              "      <td>54.0</td>\n",
              "      <td>2</td>\n",
              "      <td>2</td>\n",
              "    </tr>\n",
              "    <tr>\n",
              "      <th>31</th>\n",
              "      <td>SeaKlear AquaPill AP71 WinterPill Swimming Poo...</td>\n",
              "      <td>https://www.amazon.com/SeaKlear-AquaPill-AP71-...</td>\n",
              "      <td>4.4 out of 5 stars</td>\n",
              "      <td>15.49</td>\n",
              "      <td>6740.0</td>\n",
              "      <td>https://images-na.ssl-images-amazon.com/images...</td>\n",
              "      <td>bed</td>\n",
              "      <td>NaN</td>\n",
              "      <td>0</td>\n",
              "      <td>3</td>\n",
              "    </tr>\n",
              "    <tr>\n",
              "      <th>49</th>\n",
              "      <td>Germ Guardian FLT4825 HEPA GENUINE Air Purifie...</td>\n",
              "      <td>https://www.amazon.com/GermGuardian-FLT4825-Re...</td>\n",
              "      <td>4.8 out of 5 stars</td>\n",
              "      <td>24.99</td>\n",
              "      <td>27086.0</td>\n",
              "      <td>https://images-na.ssl-images-amazon.com/images...</td>\n",
              "      <td>bed</td>\n",
              "      <td>NaN</td>\n",
              "      <td>0</td>\n",
              "      <td>3</td>\n",
              "    </tr>\n",
              "    <tr>\n",
              "      <th>...</th>\n",
              "      <td>...</td>\n",
              "      <td>...</td>\n",
              "      <td>...</td>\n",
              "      <td>...</td>\n",
              "      <td>...</td>\n",
              "      <td>...</td>\n",
              "      <td>...</td>\n",
              "      <td>...</td>\n",
              "      <td>...</td>\n",
              "      <td>...</td>\n",
              "    </tr>\n",
              "    <tr>\n",
              "      <th>27</th>\n",
              "      <td>COMFEEâ€™ 1.6 Cu.ft Portable Washing Machine, ...</td>\n",
              "      <td>https://www.amazon.com/COMFEE-Portable-Capacit...</td>\n",
              "      <td>4.5 out of 5 stars</td>\n",
              "      <td>301.65</td>\n",
              "      <td>1947.0</td>\n",
              "      <td>https://images-na.ssl-images-amazon.com/images...</td>\n",
              "      <td>kitchen</td>\n",
              "      <td>NaN</td>\n",
              "      <td>0</td>\n",
              "      <td>4</td>\n",
              "    </tr>\n",
              "    <tr>\n",
              "      <th>9</th>\n",
              "      <td>Introducing Fire TV Stick 4K Max streaming dev...</td>\n",
              "      <td>https://www.amazon.com/fire-tv-stick-4k-max-wi...</td>\n",
              "      <td>NaN</td>\n",
              "      <td>54.99</td>\n",
              "      <td>NaN</td>\n",
              "      <td>https://images-na.ssl-images-amazon.com/images...</td>\n",
              "      <td>tech</td>\n",
              "      <td>NaN</td>\n",
              "      <td>1</td>\n",
              "      <td>1</td>\n",
              "    </tr>\n",
              "    <tr>\n",
              "      <th>37</th>\n",
              "      <td>Simple Joys by Carter's Baby 5-Pack Long-Sleev...</td>\n",
              "      <td>https://www.amazon.com/Simple-Joys-Carters-Lon...</td>\n",
              "      <td>4.8 out of 5 stars</td>\n",
              "      <td>24.94</td>\n",
              "      <td>41948.0</td>\n",
              "      <td>https://images-na.ssl-images-amazon.com/images...</td>\n",
              "      <td>clothes</td>\n",
              "      <td>NaN</td>\n",
              "      <td>0</td>\n",
              "      <td>0</td>\n",
              "    </tr>\n",
              "    <tr>\n",
              "      <th>37</th>\n",
              "      <td>COMFEE' Portable Washing Machine, 0.9 cu.ft Co...</td>\n",
              "      <td>https://www.amazon.com/COMFEE-CLV09N1AMG-Porta...</td>\n",
              "      <td>4.4 out of 5 stars</td>\n",
              "      <td>249.00</td>\n",
              "      <td>1571.0</td>\n",
              "      <td>https://images-na.ssl-images-amazon.com/images...</td>\n",
              "      <td>kitchen</td>\n",
              "      <td>NaN</td>\n",
              "      <td>0</td>\n",
              "      <td>4</td>\n",
              "    </tr>\n",
              "    <tr>\n",
              "      <th>6</th>\n",
              "      <td>Gildan Men's Fleece Hooded Sweatshirt, Style G...</td>\n",
              "      <td>https://www.amazon.com/Gildan-Fleece-Hooded-Sw...</td>\n",
              "      <td>4.6 out of 5 stars</td>\n",
              "      <td>38.99</td>\n",
              "      <td>68699.0</td>\n",
              "      <td>https://images-na.ssl-images-amazon.com/images...</td>\n",
              "      <td>clothes</td>\n",
              "      <td>NaN</td>\n",
              "      <td>0</td>\n",
              "      <td>0</td>\n",
              "    </tr>\n",
              "  </tbody>\n",
              "</table>\n",
              "<p>83 rows × 10 columns</p>\n",
              "</div>"
            ],
            "text/plain": [
              "                                                 name  ... actual\n",
              "28                                         Ring Chime  ...      1\n",
              "23  All-new Fire HD 10 tablet, 10.1\", 1080p Full H...  ...      1\n",
              "29  LEGO NINJAGO Legacy Fire Dragon Attack 71753 N...  ...      2\n",
              "31  SeaKlear AquaPill AP71 WinterPill Swimming Poo...  ...      3\n",
              "49  Germ Guardian FLT4825 HEPA GENUINE Air Purifie...  ...      3\n",
              "..                                                ...  ...    ...\n",
              "27  COMFEEâ€™ 1.6 Cu.ft Portable Washing Machine, ...  ...      4\n",
              "9   Introducing Fire TV Stick 4K Max streaming dev...  ...      1\n",
              "37  Simple Joys by Carter's Baby 5-Pack Long-Sleev...  ...      0\n",
              "37  COMFEE' Portable Washing Machine, 0.9 cu.ft Co...  ...      4\n",
              "6   Gildan Men's Fleece Hooded Sweatshirt, Style G...  ...      0\n",
              "\n",
              "[83 rows x 10 columns]"
            ]
          },
          "metadata": {},
          "execution_count": 38
        }
      ]
    },
    {
      "cell_type": "code",
      "metadata": {
        "colab": {
          "base_uri": "https://localhost:8080/"
        },
        "id": "tNMwYjqVjnH3",
        "outputId": "9a1bba39-730d-484a-979d-821db5f0d744"
      },
      "source": [
        "print(classification_report(testset.actual, testset.predictions))"
      ],
      "execution_count": 40,
      "outputs": [
        {
          "output_type": "stream",
          "name": "stdout",
          "text": [
            "              precision    recall  f1-score   support\n",
            "\n",
            "           0       0.30      1.00      0.47        17\n",
            "           1       1.00      0.43      0.61        23\n",
            "           2       1.00      1.00      1.00        10\n",
            "           3       1.00      0.12      0.21        17\n",
            "           4       1.00      0.31      0.48        16\n",
            "\n",
            "    accuracy                           0.53        83\n",
            "   macro avg       0.86      0.57      0.55        83\n",
            "weighted avg       0.86      0.53      0.52        83\n",
            "\n"
          ]
        }
      ]
    },
    {
      "cell_type": "code",
      "metadata": {
        "id": "3TMj8TGHm5Aj"
      },
      "source": [
        "# current accuracy is 50% but keep in mind that there are only five data sets and the technology dataset is not independent to kitchen and bedroom dataset, so the accuracy is lower than it should be."
      ],
      "execution_count": null,
      "outputs": []
    },
    {
      "cell_type": "code",
      "metadata": {
        "id": "sDtyFVgqnMQJ"
      },
      "source": [
        ""
      ],
      "execution_count": null,
      "outputs": []
    }
  ]
}